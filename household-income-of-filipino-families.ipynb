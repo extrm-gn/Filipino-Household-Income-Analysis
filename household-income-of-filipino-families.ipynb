{
 "cells": [
  {
   "cell_type": "markdown",
   "id": "b27296ff",
   "metadata": {
    "papermill": {
     "duration": 0.012701,
     "end_time": "2022-07-11T10:59:51.082281",
     "exception": false,
     "start_time": "2022-07-11T10:59:51.069580",
     "status": "completed"
    },
    "tags": []
   },
   "source": [
    "# **General Information**\n",
    "As we all know, the Philippines is one of the most interesting country in the world. By being colonized by the Spaniards for over 300 years, by the americans for almost 50 years, and the Japanese during World War II, to suffering from the dictatorship of its former president, Ferdinand Marcos. In this notebook, will analyze how Filipinos spend, earn, and discuss the demographics and social classes of The Philippines."
   ]
  },
  {
   "cell_type": "markdown",
   "id": "314f189d",
   "metadata": {
    "papermill": {
     "duration": 0.011278,
     "end_time": "2022-07-11T10:59:51.105693",
     "exception": false,
     "start_time": "2022-07-11T10:59:51.094415",
     "status": "completed"
    },
    "tags": []
   },
   "source": [
    "# **Objectives**\n",
    "1. Clean the dataset and remove outliers that may alter our findings.\n",
    "2. Describe and analyze which industry is focused on by each region.\n",
    "3. Compare the spending and earning capabilities of each region.\n",
    "4. Identify the inner workings of a family and find out if this correlates to earning more."
   ]
  },
  {
   "cell_type": "markdown",
   "id": "3766b9c4",
   "metadata": {
    "papermill": {
     "duration": 0.012526,
     "end_time": "2022-07-11T10:59:51.130379",
     "exception": false,
     "start_time": "2022-07-11T10:59:51.117853",
     "status": "completed"
    },
    "tags": []
   },
   "source": [
    "# **Importing Libraries and Assigning the Data**"
   ]
  },
  {
   "cell_type": "code",
   "execution_count": 1,
   "id": "31bff776",
   "metadata": {
    "_cell_guid": "b1076dfc-b9ad-4769-8c92-a6c4dae69d19",
    "_uuid": "8f2839f25d086af736a60e9eeb907d3b93b6e0e5",
    "execution": {
     "iopub.execute_input": "2022-07-11T10:59:51.155133Z",
     "iopub.status.busy": "2022-07-11T10:59:51.154473Z",
     "iopub.status.idle": "2022-07-11T10:59:51.175259Z",
     "shell.execute_reply": "2022-07-11T10:59:51.174465Z"
    },
    "papermill": {
     "duration": 0.035908,
     "end_time": "2022-07-11T10:59:51.177575",
     "exception": false,
     "start_time": "2022-07-11T10:59:51.141667",
     "status": "completed"
    },
    "tags": []
   },
   "outputs": [
    {
     "name": "stdout",
     "output_type": "stream",
     "text": [
      "/kaggle/input/family-income-and-expenditure/Family Income and Expenditure.csv\n"
     ]
    }
   ],
   "source": [
    "# This Python 3 environment comes with many helpful analytics libraries installed\n",
    "# It is defined by the kaggle/python Docker image: https://github.com/kaggle/docker-python\n",
    "# For example, here's several helpful packages to load\n",
    "\n",
    "import numpy as np # linear algebra\n",
    "import pandas as pd # data processing, CSV file I/O (e.g. pd.read_csv)\n",
    "\n",
    "# Input data files are available in the read-only \"../input/\" directory\n",
    "# For example, running this (by clicking run or pressing Shift+Enter) will list all files under the input directory\n",
    "\n",
    "import os\n",
    "for dirname, _, filenames in os.walk('/kaggle/input'):\n",
    "    for filename in filenames:\n",
    "        print(os.path.join(dirname, filename))\n",
    "\n",
    "# You can write up to 20GB to the current directory (/kaggle/working/) that gets preserved as output when you create a version using \"Save & Run All\" \n",
    "# You can also write temporary files to /kaggle/temp/, but they won't be saved outside of the current session"
   ]
  },
  {
   "cell_type": "code",
   "execution_count": 2,
   "id": "90419451",
   "metadata": {
    "execution": {
     "iopub.execute_input": "2022-07-11T10:59:51.201793Z",
     "iopub.status.busy": "2022-07-11T10:59:51.201435Z",
     "iopub.status.idle": "2022-07-11T10:59:53.074910Z",
     "shell.execute_reply": "2022-07-11T10:59:53.073772Z"
    },
    "papermill": {
     "duration": 1.888239,
     "end_time": "2022-07-11T10:59:53.077215",
     "exception": false,
     "start_time": "2022-07-11T10:59:51.188976",
     "status": "completed"
    },
    "tags": []
   },
   "outputs": [],
   "source": [
    "import pandas as pd\n",
    "import numpy as np\n",
    "import matplotlib.pyplot as plt\n",
    "import seaborn as sns\n",
    "from matplotlib import cm\n",
    "%matplotlib inline\n",
    "\n",
    "df = pd.read_csv('/kaggle/input/family-income-and-expenditure/Family Income and Expenditure.csv')\n",
    "pd.set_option('display.max_columns',60)"
   ]
  },
  {
   "cell_type": "markdown",
   "id": "ce228d9d",
   "metadata": {
    "papermill": {
     "duration": 0.01159,
     "end_time": "2022-07-11T10:59:53.100280",
     "exception": false,
     "start_time": "2022-07-11T10:59:53.088690",
     "status": "completed"
    },
    "tags": []
   },
   "source": [
    "# **Cleaning the Dataset**"
   ]
  },
  {
   "cell_type": "code",
   "execution_count": 3,
   "id": "ebb49c6a",
   "metadata": {
    "execution": {
     "iopub.execute_input": "2022-07-11T10:59:53.124516Z",
     "iopub.status.busy": "2022-07-11T10:59:53.124159Z",
     "iopub.status.idle": "2022-07-11T10:59:53.129535Z",
     "shell.execute_reply": "2022-07-11T10:59:53.128369Z"
    },
    "papermill": {
     "duration": 0.020204,
     "end_time": "2022-07-11T10:59:53.131769",
     "exception": false,
     "start_time": "2022-07-11T10:59:53.111565",
     "status": "completed"
    },
    "tags": []
   },
   "outputs": [
    {
     "name": "stdout",
     "output_type": "stream",
     "text": [
      "The DataFrame that was used has 41544 rows, and 60 columns.\n"
     ]
    }
   ],
   "source": [
    "df.shape\n",
    "print(f'The DataFrame that was used has {df.shape[0]} rows, and {df.shape[1]} columns.')"
   ]
  },
  {
   "cell_type": "code",
   "execution_count": 4,
   "id": "32a2f399",
   "metadata": {
    "execution": {
     "iopub.execute_input": "2022-07-11T10:59:53.157101Z",
     "iopub.status.busy": "2022-07-11T10:59:53.156147Z",
     "iopub.status.idle": "2022-07-11T10:59:53.355107Z",
     "shell.execute_reply": "2022-07-11T10:59:53.354067Z"
    },
    "papermill": {
     "duration": 0.213806,
     "end_time": "2022-07-11T10:59:53.357238",
     "exception": false,
     "start_time": "2022-07-11T10:59:53.143432",
     "status": "completed"
    },
    "tags": []
   },
   "outputs": [
    {
     "data": {
      "text/html": [
       "<div>\n",
       "<style scoped>\n",
       "    .dataframe tbody tr th:only-of-type {\n",
       "        vertical-align: middle;\n",
       "    }\n",
       "\n",
       "    .dataframe tbody tr th {\n",
       "        vertical-align: top;\n",
       "    }\n",
       "\n",
       "    .dataframe thead th {\n",
       "        text-align: right;\n",
       "    }\n",
       "</style>\n",
       "<table border=\"1\" class=\"dataframe\">\n",
       "  <thead>\n",
       "    <tr style=\"text-align: right;\">\n",
       "      <th></th>\n",
       "      <th>Total Household Income</th>\n",
       "      <th>Total Food Expenditure</th>\n",
       "      <th>Agricultural Household indicator</th>\n",
       "      <th>Bread and Cereals Expenditure</th>\n",
       "      <th>Total Rice Expenditure</th>\n",
       "      <th>Meat Expenditure</th>\n",
       "      <th>Total Fish and  marine products Expenditure</th>\n",
       "      <th>Fruit Expenditure</th>\n",
       "      <th>Vegetables Expenditure</th>\n",
       "      <th>Restaurant and hotels Expenditure</th>\n",
       "      <th>Alcoholic Beverages Expenditure</th>\n",
       "      <th>Tobacco Expenditure</th>\n",
       "      <th>Clothing, Footwear and Other Wear Expenditure</th>\n",
       "      <th>Housing and water Expenditure</th>\n",
       "      <th>Imputed House Rental Value</th>\n",
       "      <th>Medical Care Expenditure</th>\n",
       "      <th>Transportation Expenditure</th>\n",
       "      <th>Communication Expenditure</th>\n",
       "      <th>Education Expenditure</th>\n",
       "      <th>Miscellaneous Goods and Services Expenditure</th>\n",
       "      <th>Special Occasions Expenditure</th>\n",
       "      <th>Crop Farming and Gardening expenses</th>\n",
       "      <th>Total Income from Entrepreneurial Acitivites</th>\n",
       "      <th>Household Head Age</th>\n",
       "      <th>Total Number of Family members</th>\n",
       "      <th>Members with age less than 5 year old</th>\n",
       "      <th>Members with age 5 - 17 years old</th>\n",
       "      <th>Total number of family members employed</th>\n",
       "      <th>House Floor Area</th>\n",
       "      <th>House Age</th>\n",
       "      <th>Number of bedrooms</th>\n",
       "      <th>Electricity</th>\n",
       "      <th>Number of Television</th>\n",
       "      <th>Number of CD/VCD/DVD</th>\n",
       "      <th>Number of Component/Stereo set</th>\n",
       "      <th>Number of Refrigerator/Freezer</th>\n",
       "      <th>Number of Washing Machine</th>\n",
       "      <th>Number of Airconditioner</th>\n",
       "      <th>Number of Car, Jeep, Van</th>\n",
       "      <th>Number of Landline/wireless telephones</th>\n",
       "      <th>Number of Cellular phone</th>\n",
       "      <th>Number of Personal Computer</th>\n",
       "      <th>Number of Stove with Oven/Gas Range</th>\n",
       "      <th>Number of Motorized Banca</th>\n",
       "      <th>Number of Motorcycle/Tricycle</th>\n",
       "    </tr>\n",
       "  </thead>\n",
       "  <tbody>\n",
       "    <tr>\n",
       "      <th>count</th>\n",
       "      <td>4.154400e+04</td>\n",
       "      <td>41544.000000</td>\n",
       "      <td>41544.000000</td>\n",
       "      <td>41544.000000</td>\n",
       "      <td>41544.000000</td>\n",
       "      <td>41544.000000</td>\n",
       "      <td>41544.000000</td>\n",
       "      <td>41544.000000</td>\n",
       "      <td>41544.000000</td>\n",
       "      <td>41544.000000</td>\n",
       "      <td>41544.000000</td>\n",
       "      <td>41544.000000</td>\n",
       "      <td>41544.000000</td>\n",
       "      <td>4.154400e+04</td>\n",
       "      <td>4.154400e+04</td>\n",
       "      <td>4.154400e+04</td>\n",
       "      <td>41544.000000</td>\n",
       "      <td>41544.000000</td>\n",
       "      <td>41544.000000</td>\n",
       "      <td>41544.000000</td>\n",
       "      <td>41544.000000</td>\n",
       "      <td>4.154400e+04</td>\n",
       "      <td>4.154400e+04</td>\n",
       "      <td>41544.000000</td>\n",
       "      <td>41544.000000</td>\n",
       "      <td>41544.000000</td>\n",
       "      <td>41544.000000</td>\n",
       "      <td>41544.000000</td>\n",
       "      <td>41544.000000</td>\n",
       "      <td>41544.000000</td>\n",
       "      <td>41544.000000</td>\n",
       "      <td>41544.000000</td>\n",
       "      <td>41544.000000</td>\n",
       "      <td>41544.000000</td>\n",
       "      <td>41544.000000</td>\n",
       "      <td>41544.000000</td>\n",
       "      <td>41544.000000</td>\n",
       "      <td>41544.000000</td>\n",
       "      <td>41544.000000</td>\n",
       "      <td>41544.000000</td>\n",
       "      <td>41544.000000</td>\n",
       "      <td>41544.000000</td>\n",
       "      <td>41544.000000</td>\n",
       "      <td>41544.000000</td>\n",
       "      <td>41544.000000</td>\n",
       "    </tr>\n",
       "    <tr>\n",
       "      <th>mean</th>\n",
       "      <td>2.475556e+05</td>\n",
       "      <td>85099.158194</td>\n",
       "      <td>0.429858</td>\n",
       "      <td>25133.723642</td>\n",
       "      <td>18195.825005</td>\n",
       "      <td>10540.072574</td>\n",
       "      <td>10529.318337</td>\n",
       "      <td>2550.474990</td>\n",
       "      <td>5006.918568</td>\n",
       "      <td>15436.566075</td>\n",
       "      <td>1085.068121</td>\n",
       "      <td>2294.736183</td>\n",
       "      <td>4954.621076</td>\n",
       "      <td>3.837547e+04</td>\n",
       "      <td>2.092154e+04</td>\n",
       "      <td>7.160231e+03</td>\n",
       "      <td>11806.344454</td>\n",
       "      <td>4095.492057</td>\n",
       "      <td>7473.500481</td>\n",
       "      <td>12522.071635</td>\n",
       "      <td>5265.726001</td>\n",
       "      <td>1.381686e+04</td>\n",
       "      <td>5.437624e+04</td>\n",
       "      <td>51.381451</td>\n",
       "      <td>4.635182</td>\n",
       "      <td>0.410216</td>\n",
       "      <td>1.362579</td>\n",
       "      <td>1.272699</td>\n",
       "      <td>55.603360</td>\n",
       "      <td>20.125505</td>\n",
       "      <td>1.788008</td>\n",
       "      <td>0.890815</td>\n",
       "      <td>0.856875</td>\n",
       "      <td>0.435225</td>\n",
       "      <td>0.162141</td>\n",
       "      <td>0.394184</td>\n",
       "      <td>0.319806</td>\n",
       "      <td>0.129814</td>\n",
       "      <td>0.081215</td>\n",
       "      <td>0.060610</td>\n",
       "      <td>1.905738</td>\n",
       "      <td>0.315015</td>\n",
       "      <td>0.135038</td>\n",
       "      <td>0.013119</td>\n",
       "      <td>0.289885</td>\n",
       "    </tr>\n",
       "    <tr>\n",
       "      <th>std</th>\n",
       "      <td>2.868805e+05</td>\n",
       "      <td>51637.947682</td>\n",
       "      <td>0.676666</td>\n",
       "      <td>13466.482984</td>\n",
       "      <td>11727.224350</td>\n",
       "      <td>10497.727757</td>\n",
       "      <td>7812.201613</td>\n",
       "      <td>2969.752879</td>\n",
       "      <td>3300.175236</td>\n",
       "      <td>23705.195929</td>\n",
       "      <td>2174.431913</td>\n",
       "      <td>3998.977131</td>\n",
       "      <td>7496.500945</td>\n",
       "      <td>5.311168e+04</td>\n",
       "      <td>3.937152e+04</td>\n",
       "      <td>2.690200e+04</td>\n",
       "      <td>19351.213715</td>\n",
       "      <td>7298.822614</td>\n",
       "      <td>21219.170907</td>\n",
       "      <td>17547.027921</td>\n",
       "      <td>13279.593681</td>\n",
       "      <td>4.764378e+04</td>\n",
       "      <td>1.471428e+05</td>\n",
       "      <td>14.166081</td>\n",
       "      <td>2.280252</td>\n",
       "      <td>0.694390</td>\n",
       "      <td>1.408000</td>\n",
       "      <td>1.149152</td>\n",
       "      <td>55.023165</td>\n",
       "      <td>14.295452</td>\n",
       "      <td>1.105664</td>\n",
       "      <td>0.311875</td>\n",
       "      <td>0.646306</td>\n",
       "      <td>0.560125</td>\n",
       "      <td>0.389108</td>\n",
       "      <td>0.537025</td>\n",
       "      <td>0.478482</td>\n",
       "      <td>0.448673</td>\n",
       "      <td>0.346786</td>\n",
       "      <td>0.276732</td>\n",
       "      <td>1.558130</td>\n",
       "      <td>0.739698</td>\n",
       "      <td>0.354083</td>\n",
       "      <td>0.127171</td>\n",
       "      <td>0.558408</td>\n",
       "    </tr>\n",
       "    <tr>\n",
       "      <th>min</th>\n",
       "      <td>1.128500e+04</td>\n",
       "      <td>2947.000000</td>\n",
       "      <td>0.000000</td>\n",
       "      <td>0.000000</td>\n",
       "      <td>0.000000</td>\n",
       "      <td>0.000000</td>\n",
       "      <td>0.000000</td>\n",
       "      <td>0.000000</td>\n",
       "      <td>0.000000</td>\n",
       "      <td>0.000000</td>\n",
       "      <td>0.000000</td>\n",
       "      <td>0.000000</td>\n",
       "      <td>0.000000</td>\n",
       "      <td>1.950000e+03</td>\n",
       "      <td>0.000000e+00</td>\n",
       "      <td>0.000000e+00</td>\n",
       "      <td>0.000000</td>\n",
       "      <td>0.000000</td>\n",
       "      <td>0.000000</td>\n",
       "      <td>0.000000</td>\n",
       "      <td>0.000000</td>\n",
       "      <td>0.000000e+00</td>\n",
       "      <td>0.000000e+00</td>\n",
       "      <td>9.000000</td>\n",
       "      <td>1.000000</td>\n",
       "      <td>0.000000</td>\n",
       "      <td>0.000000</td>\n",
       "      <td>0.000000</td>\n",
       "      <td>5.000000</td>\n",
       "      <td>0.000000</td>\n",
       "      <td>0.000000</td>\n",
       "      <td>0.000000</td>\n",
       "      <td>0.000000</td>\n",
       "      <td>0.000000</td>\n",
       "      <td>0.000000</td>\n",
       "      <td>0.000000</td>\n",
       "      <td>0.000000</td>\n",
       "      <td>0.000000</td>\n",
       "      <td>0.000000</td>\n",
       "      <td>0.000000</td>\n",
       "      <td>0.000000</td>\n",
       "      <td>0.000000</td>\n",
       "      <td>0.000000</td>\n",
       "      <td>0.000000</td>\n",
       "      <td>0.000000</td>\n",
       "    </tr>\n",
       "    <tr>\n",
       "      <th>25%</th>\n",
       "      <td>1.048950e+05</td>\n",
       "      <td>51017.250000</td>\n",
       "      <td>0.000000</td>\n",
       "      <td>16556.000000</td>\n",
       "      <td>11020.000000</td>\n",
       "      <td>3353.750000</td>\n",
       "      <td>5504.000000</td>\n",
       "      <td>1024.750000</td>\n",
       "      <td>2873.000000</td>\n",
       "      <td>1930.000000</td>\n",
       "      <td>0.000000</td>\n",
       "      <td>0.000000</td>\n",
       "      <td>1365.000000</td>\n",
       "      <td>1.308000e+04</td>\n",
       "      <td>6.000000e+03</td>\n",
       "      <td>3.000000e+02</td>\n",
       "      <td>2412.000000</td>\n",
       "      <td>564.000000</td>\n",
       "      <td>0.000000</td>\n",
       "      <td>3792.000000</td>\n",
       "      <td>0.000000</td>\n",
       "      <td>0.000000e+00</td>\n",
       "      <td>0.000000e+00</td>\n",
       "      <td>41.000000</td>\n",
       "      <td>3.000000</td>\n",
       "      <td>0.000000</td>\n",
       "      <td>0.000000</td>\n",
       "      <td>0.000000</td>\n",
       "      <td>25.000000</td>\n",
       "      <td>10.000000</td>\n",
       "      <td>1.000000</td>\n",
       "      <td>1.000000</td>\n",
       "      <td>0.000000</td>\n",
       "      <td>0.000000</td>\n",
       "      <td>0.000000</td>\n",
       "      <td>0.000000</td>\n",
       "      <td>0.000000</td>\n",
       "      <td>0.000000</td>\n",
       "      <td>0.000000</td>\n",
       "      <td>0.000000</td>\n",
       "      <td>1.000000</td>\n",
       "      <td>0.000000</td>\n",
       "      <td>0.000000</td>\n",
       "      <td>0.000000</td>\n",
       "      <td>0.000000</td>\n",
       "    </tr>\n",
       "    <tr>\n",
       "      <th>50%</th>\n",
       "      <td>1.640795e+05</td>\n",
       "      <td>72985.500000</td>\n",
       "      <td>0.000000</td>\n",
       "      <td>23324.000000</td>\n",
       "      <td>16620.000000</td>\n",
       "      <td>7332.500000</td>\n",
       "      <td>8695.000000</td>\n",
       "      <td>1820.000000</td>\n",
       "      <td>4314.000000</td>\n",
       "      <td>7314.000000</td>\n",
       "      <td>270.000000</td>\n",
       "      <td>300.000000</td>\n",
       "      <td>2740.000000</td>\n",
       "      <td>2.299200e+04</td>\n",
       "      <td>1.080000e+04</td>\n",
       "      <td>1.125000e+03</td>\n",
       "      <td>6036.000000</td>\n",
       "      <td>1506.000000</td>\n",
       "      <td>880.000000</td>\n",
       "      <td>6804.000000</td>\n",
       "      <td>1500.000000</td>\n",
       "      <td>0.000000e+00</td>\n",
       "      <td>1.922200e+04</td>\n",
       "      <td>51.000000</td>\n",
       "      <td>4.000000</td>\n",
       "      <td>0.000000</td>\n",
       "      <td>1.000000</td>\n",
       "      <td>1.000000</td>\n",
       "      <td>40.000000</td>\n",
       "      <td>17.000000</td>\n",
       "      <td>2.000000</td>\n",
       "      <td>1.000000</td>\n",
       "      <td>1.000000</td>\n",
       "      <td>0.000000</td>\n",
       "      <td>0.000000</td>\n",
       "      <td>0.000000</td>\n",
       "      <td>0.000000</td>\n",
       "      <td>0.000000</td>\n",
       "      <td>0.000000</td>\n",
       "      <td>0.000000</td>\n",
       "      <td>2.000000</td>\n",
       "      <td>0.000000</td>\n",
       "      <td>0.000000</td>\n",
       "      <td>0.000000</td>\n",
       "      <td>0.000000</td>\n",
       "    </tr>\n",
       "    <tr>\n",
       "      <th>75%</th>\n",
       "      <td>2.911385e+05</td>\n",
       "      <td>105635.500000</td>\n",
       "      <td>1.000000</td>\n",
       "      <td>31439.000000</td>\n",
       "      <td>23920.000000</td>\n",
       "      <td>14292.000000</td>\n",
       "      <td>13388.000000</td>\n",
       "      <td>3100.000000</td>\n",
       "      <td>6304.250000</td>\n",
       "      <td>19921.250000</td>\n",
       "      <td>1299.250000</td>\n",
       "      <td>3146.500000</td>\n",
       "      <td>5580.000000</td>\n",
       "      <td>4.594800e+04</td>\n",
       "      <td>2.400000e+04</td>\n",
       "      <td>4.680000e+03</td>\n",
       "      <td>13776.000000</td>\n",
       "      <td>3900.000000</td>\n",
       "      <td>4060.000000</td>\n",
       "      <td>14154.000000</td>\n",
       "      <td>5000.000000</td>\n",
       "      <td>6.312750e+03</td>\n",
       "      <td>6.596875e+04</td>\n",
       "      <td>61.000000</td>\n",
       "      <td>6.000000</td>\n",
       "      <td>1.000000</td>\n",
       "      <td>2.000000</td>\n",
       "      <td>2.000000</td>\n",
       "      <td>70.000000</td>\n",
       "      <td>26.000000</td>\n",
       "      <td>2.000000</td>\n",
       "      <td>1.000000</td>\n",
       "      <td>1.000000</td>\n",
       "      <td>1.000000</td>\n",
       "      <td>0.000000</td>\n",
       "      <td>1.000000</td>\n",
       "      <td>1.000000</td>\n",
       "      <td>0.000000</td>\n",
       "      <td>0.000000</td>\n",
       "      <td>0.000000</td>\n",
       "      <td>3.000000</td>\n",
       "      <td>0.000000</td>\n",
       "      <td>0.000000</td>\n",
       "      <td>0.000000</td>\n",
       "      <td>0.000000</td>\n",
       "    </tr>\n",
       "    <tr>\n",
       "      <th>max</th>\n",
       "      <td>1.181599e+07</td>\n",
       "      <td>827565.000000</td>\n",
       "      <td>2.000000</td>\n",
       "      <td>765864.000000</td>\n",
       "      <td>758326.000000</td>\n",
       "      <td>261566.000000</td>\n",
       "      <td>188208.000000</td>\n",
       "      <td>273769.000000</td>\n",
       "      <td>74800.000000</td>\n",
       "      <td>725296.000000</td>\n",
       "      <td>59592.000000</td>\n",
       "      <td>139370.000000</td>\n",
       "      <td>356750.000000</td>\n",
       "      <td>2.188560e+06</td>\n",
       "      <td>1.920000e+06</td>\n",
       "      <td>1.049275e+06</td>\n",
       "      <td>834996.000000</td>\n",
       "      <td>149940.000000</td>\n",
       "      <td>731000.000000</td>\n",
       "      <td>553560.000000</td>\n",
       "      <td>556700.000000</td>\n",
       "      <td>3.729973e+06</td>\n",
       "      <td>9.234485e+06</td>\n",
       "      <td>99.000000</td>\n",
       "      <td>26.000000</td>\n",
       "      <td>5.000000</td>\n",
       "      <td>8.000000</td>\n",
       "      <td>8.000000</td>\n",
       "      <td>998.000000</td>\n",
       "      <td>200.000000</td>\n",
       "      <td>9.000000</td>\n",
       "      <td>1.000000</td>\n",
       "      <td>6.000000</td>\n",
       "      <td>5.000000</td>\n",
       "      <td>5.000000</td>\n",
       "      <td>5.000000</td>\n",
       "      <td>3.000000</td>\n",
       "      <td>5.000000</td>\n",
       "      <td>5.000000</td>\n",
       "      <td>4.000000</td>\n",
       "      <td>10.000000</td>\n",
       "      <td>6.000000</td>\n",
       "      <td>3.000000</td>\n",
       "      <td>3.000000</td>\n",
       "      <td>5.000000</td>\n",
       "    </tr>\n",
       "  </tbody>\n",
       "</table>\n",
       "</div>"
      ],
      "text/plain": [
       "       Total Household Income  Total Food Expenditure  \\\n",
       "count            4.154400e+04            41544.000000   \n",
       "mean             2.475556e+05            85099.158194   \n",
       "std              2.868805e+05            51637.947682   \n",
       "min              1.128500e+04             2947.000000   \n",
       "25%              1.048950e+05            51017.250000   \n",
       "50%              1.640795e+05            72985.500000   \n",
       "75%              2.911385e+05           105635.500000   \n",
       "max              1.181599e+07           827565.000000   \n",
       "\n",
       "       Agricultural Household indicator  Bread and Cereals Expenditure  \\\n",
       "count                      41544.000000                   41544.000000   \n",
       "mean                           0.429858                   25133.723642   \n",
       "std                            0.676666                   13466.482984   \n",
       "min                            0.000000                       0.000000   \n",
       "25%                            0.000000                   16556.000000   \n",
       "50%                            0.000000                   23324.000000   \n",
       "75%                            1.000000                   31439.000000   \n",
       "max                            2.000000                  765864.000000   \n",
       "\n",
       "       Total Rice Expenditure  Meat Expenditure  \\\n",
       "count            41544.000000      41544.000000   \n",
       "mean             18195.825005      10540.072574   \n",
       "std              11727.224350      10497.727757   \n",
       "min                  0.000000          0.000000   \n",
       "25%              11020.000000       3353.750000   \n",
       "50%              16620.000000       7332.500000   \n",
       "75%              23920.000000      14292.000000   \n",
       "max             758326.000000     261566.000000   \n",
       "\n",
       "       Total Fish and  marine products Expenditure  Fruit Expenditure  \\\n",
       "count                                 41544.000000       41544.000000   \n",
       "mean                                  10529.318337        2550.474990   \n",
       "std                                    7812.201613        2969.752879   \n",
       "min                                       0.000000           0.000000   \n",
       "25%                                    5504.000000        1024.750000   \n",
       "50%                                    8695.000000        1820.000000   \n",
       "75%                                   13388.000000        3100.000000   \n",
       "max                                  188208.000000      273769.000000   \n",
       "\n",
       "       Vegetables Expenditure  Restaurant and hotels Expenditure  \\\n",
       "count            41544.000000                       41544.000000   \n",
       "mean              5006.918568                       15436.566075   \n",
       "std               3300.175236                       23705.195929   \n",
       "min                  0.000000                           0.000000   \n",
       "25%               2873.000000                        1930.000000   \n",
       "50%               4314.000000                        7314.000000   \n",
       "75%               6304.250000                       19921.250000   \n",
       "max              74800.000000                      725296.000000   \n",
       "\n",
       "       Alcoholic Beverages Expenditure  Tobacco Expenditure  \\\n",
       "count                     41544.000000         41544.000000   \n",
       "mean                       1085.068121          2294.736183   \n",
       "std                        2174.431913          3998.977131   \n",
       "min                           0.000000             0.000000   \n",
       "25%                           0.000000             0.000000   \n",
       "50%                         270.000000           300.000000   \n",
       "75%                        1299.250000          3146.500000   \n",
       "max                       59592.000000        139370.000000   \n",
       "\n",
       "       Clothing, Footwear and Other Wear Expenditure  \\\n",
       "count                                   41544.000000   \n",
       "mean                                     4954.621076   \n",
       "std                                      7496.500945   \n",
       "min                                         0.000000   \n",
       "25%                                      1365.000000   \n",
       "50%                                      2740.000000   \n",
       "75%                                      5580.000000   \n",
       "max                                    356750.000000   \n",
       "\n",
       "       Housing and water Expenditure  Imputed House Rental Value  \\\n",
       "count                   4.154400e+04                4.154400e+04   \n",
       "mean                    3.837547e+04                2.092154e+04   \n",
       "std                     5.311168e+04                3.937152e+04   \n",
       "min                     1.950000e+03                0.000000e+00   \n",
       "25%                     1.308000e+04                6.000000e+03   \n",
       "50%                     2.299200e+04                1.080000e+04   \n",
       "75%                     4.594800e+04                2.400000e+04   \n",
       "max                     2.188560e+06                1.920000e+06   \n",
       "\n",
       "       Medical Care Expenditure  Transportation Expenditure  \\\n",
       "count              4.154400e+04                41544.000000   \n",
       "mean               7.160231e+03                11806.344454   \n",
       "std                2.690200e+04                19351.213715   \n",
       "min                0.000000e+00                    0.000000   \n",
       "25%                3.000000e+02                 2412.000000   \n",
       "50%                1.125000e+03                 6036.000000   \n",
       "75%                4.680000e+03                13776.000000   \n",
       "max                1.049275e+06               834996.000000   \n",
       "\n",
       "       Communication Expenditure  Education Expenditure  \\\n",
       "count               41544.000000           41544.000000   \n",
       "mean                 4095.492057            7473.500481   \n",
       "std                  7298.822614           21219.170907   \n",
       "min                     0.000000               0.000000   \n",
       "25%                   564.000000               0.000000   \n",
       "50%                  1506.000000             880.000000   \n",
       "75%                  3900.000000            4060.000000   \n",
       "max                149940.000000          731000.000000   \n",
       "\n",
       "       Miscellaneous Goods and Services Expenditure  \\\n",
       "count                                  41544.000000   \n",
       "mean                                   12522.071635   \n",
       "std                                    17547.027921   \n",
       "min                                        0.000000   \n",
       "25%                                     3792.000000   \n",
       "50%                                     6804.000000   \n",
       "75%                                    14154.000000   \n",
       "max                                   553560.000000   \n",
       "\n",
       "       Special Occasions Expenditure  Crop Farming and Gardening expenses  \\\n",
       "count                   41544.000000                         4.154400e+04   \n",
       "mean                     5265.726001                         1.381686e+04   \n",
       "std                     13279.593681                         4.764378e+04   \n",
       "min                         0.000000                         0.000000e+00   \n",
       "25%                         0.000000                         0.000000e+00   \n",
       "50%                      1500.000000                         0.000000e+00   \n",
       "75%                      5000.000000                         6.312750e+03   \n",
       "max                    556700.000000                         3.729973e+06   \n",
       "\n",
       "       Total Income from Entrepreneurial Acitivites  Household Head Age  \\\n",
       "count                                  4.154400e+04        41544.000000   \n",
       "mean                                   5.437624e+04           51.381451   \n",
       "std                                    1.471428e+05           14.166081   \n",
       "min                                    0.000000e+00            9.000000   \n",
       "25%                                    0.000000e+00           41.000000   \n",
       "50%                                    1.922200e+04           51.000000   \n",
       "75%                                    6.596875e+04           61.000000   \n",
       "max                                    9.234485e+06           99.000000   \n",
       "\n",
       "       Total Number of Family members  Members with age less than 5 year old  \\\n",
       "count                    41544.000000                           41544.000000   \n",
       "mean                         4.635182                               0.410216   \n",
       "std                          2.280252                               0.694390   \n",
       "min                          1.000000                               0.000000   \n",
       "25%                          3.000000                               0.000000   \n",
       "50%                          4.000000                               0.000000   \n",
       "75%                          6.000000                               1.000000   \n",
       "max                         26.000000                               5.000000   \n",
       "\n",
       "       Members with age 5 - 17 years old  \\\n",
       "count                       41544.000000   \n",
       "mean                            1.362579   \n",
       "std                             1.408000   \n",
       "min                             0.000000   \n",
       "25%                             0.000000   \n",
       "50%                             1.000000   \n",
       "75%                             2.000000   \n",
       "max                             8.000000   \n",
       "\n",
       "       Total number of family members employed  House Floor Area  \\\n",
       "count                             41544.000000      41544.000000   \n",
       "mean                                  1.272699         55.603360   \n",
       "std                                   1.149152         55.023165   \n",
       "min                                   0.000000          5.000000   \n",
       "25%                                   0.000000         25.000000   \n",
       "50%                                   1.000000         40.000000   \n",
       "75%                                   2.000000         70.000000   \n",
       "max                                   8.000000        998.000000   \n",
       "\n",
       "          House Age  Number of bedrooms   Electricity  Number of Television  \\\n",
       "count  41544.000000        41544.000000  41544.000000          41544.000000   \n",
       "mean      20.125505            1.788008      0.890815              0.856875   \n",
       "std       14.295452            1.105664      0.311875              0.646306   \n",
       "min        0.000000            0.000000      0.000000              0.000000   \n",
       "25%       10.000000            1.000000      1.000000              0.000000   \n",
       "50%       17.000000            2.000000      1.000000              1.000000   \n",
       "75%       26.000000            2.000000      1.000000              1.000000   \n",
       "max      200.000000            9.000000      1.000000              6.000000   \n",
       "\n",
       "       Number of CD/VCD/DVD  Number of Component/Stereo set  \\\n",
       "count          41544.000000                    41544.000000   \n",
       "mean               0.435225                        0.162141   \n",
       "std                0.560125                        0.389108   \n",
       "min                0.000000                        0.000000   \n",
       "25%                0.000000                        0.000000   \n",
       "50%                0.000000                        0.000000   \n",
       "75%                1.000000                        0.000000   \n",
       "max                5.000000                        5.000000   \n",
       "\n",
       "       Number of Refrigerator/Freezer  Number of Washing Machine  \\\n",
       "count                    41544.000000               41544.000000   \n",
       "mean                         0.394184                   0.319806   \n",
       "std                          0.537025                   0.478482   \n",
       "min                          0.000000                   0.000000   \n",
       "25%                          0.000000                   0.000000   \n",
       "50%                          0.000000                   0.000000   \n",
       "75%                          1.000000                   1.000000   \n",
       "max                          5.000000                   3.000000   \n",
       "\n",
       "       Number of Airconditioner  Number of Car, Jeep, Van  \\\n",
       "count              41544.000000              41544.000000   \n",
       "mean                   0.129814                  0.081215   \n",
       "std                    0.448673                  0.346786   \n",
       "min                    0.000000                  0.000000   \n",
       "25%                    0.000000                  0.000000   \n",
       "50%                    0.000000                  0.000000   \n",
       "75%                    0.000000                  0.000000   \n",
       "max                    5.000000                  5.000000   \n",
       "\n",
       "       Number of Landline/wireless telephones  Number of Cellular phone  \\\n",
       "count                            41544.000000              41544.000000   \n",
       "mean                                 0.060610                  1.905738   \n",
       "std                                  0.276732                  1.558130   \n",
       "min                                  0.000000                  0.000000   \n",
       "25%                                  0.000000                  1.000000   \n",
       "50%                                  0.000000                  2.000000   \n",
       "75%                                  0.000000                  3.000000   \n",
       "max                                  4.000000                 10.000000   \n",
       "\n",
       "       Number of Personal Computer  Number of Stove with Oven/Gas Range  \\\n",
       "count                 41544.000000                         41544.000000   \n",
       "mean                      0.315015                             0.135038   \n",
       "std                       0.739698                             0.354083   \n",
       "min                       0.000000                             0.000000   \n",
       "25%                       0.000000                             0.000000   \n",
       "50%                       0.000000                             0.000000   \n",
       "75%                       0.000000                             0.000000   \n",
       "max                       6.000000                             3.000000   \n",
       "\n",
       "       Number of Motorized Banca  Number of Motorcycle/Tricycle  \n",
       "count               41544.000000                   41544.000000  \n",
       "mean                    0.013119                       0.289885  \n",
       "std                     0.127171                       0.558408  \n",
       "min                     0.000000                       0.000000  \n",
       "25%                     0.000000                       0.000000  \n",
       "50%                     0.000000                       0.000000  \n",
       "75%                     0.000000                       0.000000  \n",
       "max                     3.000000                       5.000000  "
      ]
     },
     "execution_count": 4,
     "metadata": {},
     "output_type": "execute_result"
    }
   ],
   "source": [
    "df.describe()"
   ]
  },
  {
   "cell_type": "code",
   "execution_count": 5,
   "id": "0ec5180b",
   "metadata": {
    "execution": {
     "iopub.execute_input": "2022-07-11T10:59:53.385653Z",
     "iopub.status.busy": "2022-07-11T10:59:53.385271Z",
     "iopub.status.idle": "2022-07-11T10:59:53.418842Z",
     "shell.execute_reply": "2022-07-11T10:59:53.417742Z"
    },
    "papermill": {
     "duration": 0.050987,
     "end_time": "2022-07-11T10:59:53.421202",
     "exception": false,
     "start_time": "2022-07-11T10:59:53.370215",
     "status": "completed"
    },
    "tags": []
   },
   "outputs": [
    {
     "data": {
      "text/html": [
       "<div>\n",
       "<style scoped>\n",
       "    .dataframe tbody tr th:only-of-type {\n",
       "        vertical-align: middle;\n",
       "    }\n",
       "\n",
       "    .dataframe tbody tr th {\n",
       "        vertical-align: top;\n",
       "    }\n",
       "\n",
       "    .dataframe thead th {\n",
       "        text-align: right;\n",
       "    }\n",
       "</style>\n",
       "<table border=\"1\" class=\"dataframe\">\n",
       "  <thead>\n",
       "    <tr style=\"text-align: right;\">\n",
       "      <th></th>\n",
       "      <th>Total Household Income</th>\n",
       "      <th>Region</th>\n",
       "      <th>Total Food Expenditure</th>\n",
       "      <th>Main Source of Income</th>\n",
       "      <th>Agricultural Household indicator</th>\n",
       "      <th>Bread and Cereals Expenditure</th>\n",
       "      <th>Total Rice Expenditure</th>\n",
       "      <th>Meat Expenditure</th>\n",
       "      <th>Total Fish and  marine products Expenditure</th>\n",
       "      <th>Fruit Expenditure</th>\n",
       "      <th>Vegetables Expenditure</th>\n",
       "      <th>Restaurant and hotels Expenditure</th>\n",
       "      <th>Alcoholic Beverages Expenditure</th>\n",
       "      <th>Tobacco Expenditure</th>\n",
       "      <th>Clothing, Footwear and Other Wear Expenditure</th>\n",
       "      <th>Housing and water Expenditure</th>\n",
       "      <th>Imputed House Rental Value</th>\n",
       "      <th>Medical Care Expenditure</th>\n",
       "      <th>Transportation Expenditure</th>\n",
       "      <th>Communication Expenditure</th>\n",
       "      <th>Education Expenditure</th>\n",
       "      <th>Miscellaneous Goods and Services Expenditure</th>\n",
       "      <th>Special Occasions Expenditure</th>\n",
       "      <th>Crop Farming and Gardening expenses</th>\n",
       "      <th>Total Income from Entrepreneurial Acitivites</th>\n",
       "      <th>Household Head Sex</th>\n",
       "      <th>Household Head Age</th>\n",
       "      <th>Household Head Marital Status</th>\n",
       "      <th>Household Head Highest Grade Completed</th>\n",
       "      <th>Household Head Job or Business Indicator</th>\n",
       "      <th>Household Head Occupation</th>\n",
       "      <th>Household Head Class of Worker</th>\n",
       "      <th>Type of Household</th>\n",
       "      <th>Total Number of Family members</th>\n",
       "      <th>Members with age less than 5 year old</th>\n",
       "      <th>Members with age 5 - 17 years old</th>\n",
       "      <th>Total number of family members employed</th>\n",
       "      <th>Type of Building/House</th>\n",
       "      <th>Type of Roof</th>\n",
       "      <th>Type of Walls</th>\n",
       "      <th>House Floor Area</th>\n",
       "      <th>House Age</th>\n",
       "      <th>Number of bedrooms</th>\n",
       "      <th>Tenure Status</th>\n",
       "      <th>Toilet Facilities</th>\n",
       "      <th>Electricity</th>\n",
       "      <th>Main Source of Water Supply</th>\n",
       "      <th>Number of Television</th>\n",
       "      <th>Number of CD/VCD/DVD</th>\n",
       "      <th>Number of Component/Stereo set</th>\n",
       "      <th>Number of Refrigerator/Freezer</th>\n",
       "      <th>Number of Washing Machine</th>\n",
       "      <th>Number of Airconditioner</th>\n",
       "      <th>Number of Car, Jeep, Van</th>\n",
       "      <th>Number of Landline/wireless telephones</th>\n",
       "      <th>Number of Cellular phone</th>\n",
       "      <th>Number of Personal Computer</th>\n",
       "      <th>Number of Stove with Oven/Gas Range</th>\n",
       "      <th>Number of Motorized Banca</th>\n",
       "      <th>Number of Motorcycle/Tricycle</th>\n",
       "    </tr>\n",
       "  </thead>\n",
       "  <tbody>\n",
       "    <tr>\n",
       "      <th>0</th>\n",
       "      <td>480332</td>\n",
       "      <td>CAR</td>\n",
       "      <td>117848</td>\n",
       "      <td>Wage/Salaries</td>\n",
       "      <td>0</td>\n",
       "      <td>42140</td>\n",
       "      <td>38300</td>\n",
       "      <td>24676</td>\n",
       "      <td>16806</td>\n",
       "      <td>3325</td>\n",
       "      <td>13460</td>\n",
       "      <td>3000</td>\n",
       "      <td>0</td>\n",
       "      <td>0</td>\n",
       "      <td>4607</td>\n",
       "      <td>63636</td>\n",
       "      <td>30000</td>\n",
       "      <td>3457</td>\n",
       "      <td>4776</td>\n",
       "      <td>2880</td>\n",
       "      <td>36200</td>\n",
       "      <td>34056</td>\n",
       "      <td>7200</td>\n",
       "      <td>19370</td>\n",
       "      <td>44370</td>\n",
       "      <td>Female</td>\n",
       "      <td>49</td>\n",
       "      <td>Single</td>\n",
       "      <td>Teacher Training and Education Sciences Programs</td>\n",
       "      <td>With Job/Business</td>\n",
       "      <td>General elementary education teaching professi...</td>\n",
       "      <td>Worked for government/government corporation</td>\n",
       "      <td>Extended Family</td>\n",
       "      <td>4</td>\n",
       "      <td>0</td>\n",
       "      <td>1</td>\n",
       "      <td>1</td>\n",
       "      <td>Single house</td>\n",
       "      <td>Strong material(galvanized,iron,al,tile,concre...</td>\n",
       "      <td>Strong</td>\n",
       "      <td>80</td>\n",
       "      <td>75</td>\n",
       "      <td>3</td>\n",
       "      <td>Own or owner-like possession of house and lot</td>\n",
       "      <td>Water-sealed, sewer septic tank, used exclusiv...</td>\n",
       "      <td>1</td>\n",
       "      <td>Own use, faucet, community water system</td>\n",
       "      <td>1</td>\n",
       "      <td>1</td>\n",
       "      <td>0</td>\n",
       "      <td>1</td>\n",
       "      <td>1</td>\n",
       "      <td>0</td>\n",
       "      <td>0</td>\n",
       "      <td>0</td>\n",
       "      <td>2</td>\n",
       "      <td>1</td>\n",
       "      <td>0</td>\n",
       "      <td>0</td>\n",
       "      <td>1</td>\n",
       "    </tr>\n",
       "    <tr>\n",
       "      <th>1</th>\n",
       "      <td>198235</td>\n",
       "      <td>CAR</td>\n",
       "      <td>67766</td>\n",
       "      <td>Wage/Salaries</td>\n",
       "      <td>0</td>\n",
       "      <td>17329</td>\n",
       "      <td>13008</td>\n",
       "      <td>17434</td>\n",
       "      <td>11073</td>\n",
       "      <td>2035</td>\n",
       "      <td>7833</td>\n",
       "      <td>2360</td>\n",
       "      <td>960</td>\n",
       "      <td>2132</td>\n",
       "      <td>8230</td>\n",
       "      <td>41370</td>\n",
       "      <td>27000</td>\n",
       "      <td>3520</td>\n",
       "      <td>12900</td>\n",
       "      <td>5700</td>\n",
       "      <td>29300</td>\n",
       "      <td>9150</td>\n",
       "      <td>1500</td>\n",
       "      <td>0</td>\n",
       "      <td>0</td>\n",
       "      <td>Male</td>\n",
       "      <td>40</td>\n",
       "      <td>Married</td>\n",
       "      <td>Transport Services Programs</td>\n",
       "      <td>With Job/Business</td>\n",
       "      <td>Transport conductors</td>\n",
       "      <td>Worked for private establishment</td>\n",
       "      <td>Single Family</td>\n",
       "      <td>3</td>\n",
       "      <td>0</td>\n",
       "      <td>1</td>\n",
       "      <td>2</td>\n",
       "      <td>Single house</td>\n",
       "      <td>Strong material(galvanized,iron,al,tile,concre...</td>\n",
       "      <td>Strong</td>\n",
       "      <td>42</td>\n",
       "      <td>15</td>\n",
       "      <td>2</td>\n",
       "      <td>Own or owner-like possession of house and lot</td>\n",
       "      <td>Water-sealed, sewer septic tank, used exclusiv...</td>\n",
       "      <td>1</td>\n",
       "      <td>Own use, faucet, community water system</td>\n",
       "      <td>1</td>\n",
       "      <td>1</td>\n",
       "      <td>1</td>\n",
       "      <td>0</td>\n",
       "      <td>1</td>\n",
       "      <td>0</td>\n",
       "      <td>0</td>\n",
       "      <td>0</td>\n",
       "      <td>3</td>\n",
       "      <td>1</td>\n",
       "      <td>0</td>\n",
       "      <td>0</td>\n",
       "      <td>2</td>\n",
       "    </tr>\n",
       "    <tr>\n",
       "      <th>2</th>\n",
       "      <td>82785</td>\n",
       "      <td>CAR</td>\n",
       "      <td>61609</td>\n",
       "      <td>Wage/Salaries</td>\n",
       "      <td>1</td>\n",
       "      <td>34182</td>\n",
       "      <td>32001</td>\n",
       "      <td>7783</td>\n",
       "      <td>2590</td>\n",
       "      <td>1730</td>\n",
       "      <td>3795</td>\n",
       "      <td>4545</td>\n",
       "      <td>270</td>\n",
       "      <td>4525</td>\n",
       "      <td>2735</td>\n",
       "      <td>14340</td>\n",
       "      <td>7200</td>\n",
       "      <td>70</td>\n",
       "      <td>324</td>\n",
       "      <td>420</td>\n",
       "      <td>425</td>\n",
       "      <td>6450</td>\n",
       "      <td>500</td>\n",
       "      <td>0</td>\n",
       "      <td>0</td>\n",
       "      <td>Male</td>\n",
       "      <td>39</td>\n",
       "      <td>Married</td>\n",
       "      <td>Grade 3</td>\n",
       "      <td>With Job/Business</td>\n",
       "      <td>Farmhands and laborers</td>\n",
       "      <td>Worked for private establishment</td>\n",
       "      <td>Single Family</td>\n",
       "      <td>6</td>\n",
       "      <td>0</td>\n",
       "      <td>4</td>\n",
       "      <td>3</td>\n",
       "      <td>Single house</td>\n",
       "      <td>Light material (cogon,nipa,anahaw)</td>\n",
       "      <td>Light</td>\n",
       "      <td>35</td>\n",
       "      <td>12</td>\n",
       "      <td>1</td>\n",
       "      <td>Own or owner-like possession of house and lot</td>\n",
       "      <td>Water-sealed, sewer septic tank, shared with o...</td>\n",
       "      <td>0</td>\n",
       "      <td>Shared, faucet, community water system</td>\n",
       "      <td>0</td>\n",
       "      <td>0</td>\n",
       "      <td>0</td>\n",
       "      <td>0</td>\n",
       "      <td>0</td>\n",
       "      <td>0</td>\n",
       "      <td>0</td>\n",
       "      <td>0</td>\n",
       "      <td>0</td>\n",
       "      <td>0</td>\n",
       "      <td>0</td>\n",
       "      <td>0</td>\n",
       "      <td>0</td>\n",
       "    </tr>\n",
       "  </tbody>\n",
       "</table>\n",
       "</div>"
      ],
      "text/plain": [
       "   Total Household Income Region  Total Food Expenditure  \\\n",
       "0                  480332    CAR                  117848   \n",
       "1                  198235    CAR                   67766   \n",
       "2                   82785    CAR                   61609   \n",
       "\n",
       "  Main Source of Income  Agricultural Household indicator  \\\n",
       "0         Wage/Salaries                                 0   \n",
       "1         Wage/Salaries                                 0   \n",
       "2         Wage/Salaries                                 1   \n",
       "\n",
       "   Bread and Cereals Expenditure  Total Rice Expenditure  Meat Expenditure  \\\n",
       "0                          42140                   38300             24676   \n",
       "1                          17329                   13008             17434   \n",
       "2                          34182                   32001              7783   \n",
       "\n",
       "   Total Fish and  marine products Expenditure  Fruit Expenditure  \\\n",
       "0                                        16806               3325   \n",
       "1                                        11073               2035   \n",
       "2                                         2590               1730   \n",
       "\n",
       "   Vegetables Expenditure  Restaurant and hotels Expenditure  \\\n",
       "0                   13460                               3000   \n",
       "1                    7833                               2360   \n",
       "2                    3795                               4545   \n",
       "\n",
       "   Alcoholic Beverages Expenditure  Tobacco Expenditure  \\\n",
       "0                                0                    0   \n",
       "1                              960                 2132   \n",
       "2                              270                 4525   \n",
       "\n",
       "   Clothing, Footwear and Other Wear Expenditure  \\\n",
       "0                                           4607   \n",
       "1                                           8230   \n",
       "2                                           2735   \n",
       "\n",
       "   Housing and water Expenditure  Imputed House Rental Value  \\\n",
       "0                          63636                       30000   \n",
       "1                          41370                       27000   \n",
       "2                          14340                        7200   \n",
       "\n",
       "   Medical Care Expenditure  Transportation Expenditure  \\\n",
       "0                      3457                        4776   \n",
       "1                      3520                       12900   \n",
       "2                        70                         324   \n",
       "\n",
       "   Communication Expenditure  Education Expenditure  \\\n",
       "0                       2880                  36200   \n",
       "1                       5700                  29300   \n",
       "2                        420                    425   \n",
       "\n",
       "   Miscellaneous Goods and Services Expenditure  \\\n",
       "0                                         34056   \n",
       "1                                          9150   \n",
       "2                                          6450   \n",
       "\n",
       "   Special Occasions Expenditure  Crop Farming and Gardening expenses  \\\n",
       "0                           7200                                19370   \n",
       "1                           1500                                    0   \n",
       "2                            500                                    0   \n",
       "\n",
       "   Total Income from Entrepreneurial Acitivites Household Head Sex  \\\n",
       "0                                         44370             Female   \n",
       "1                                             0               Male   \n",
       "2                                             0               Male   \n",
       "\n",
       "   Household Head Age Household Head Marital Status  \\\n",
       "0                  49                        Single   \n",
       "1                  40                       Married   \n",
       "2                  39                       Married   \n",
       "\n",
       "             Household Head Highest Grade Completed  \\\n",
       "0  Teacher Training and Education Sciences Programs   \n",
       "1                       Transport Services Programs   \n",
       "2                                           Grade 3   \n",
       "\n",
       "  Household Head Job or Business Indicator  \\\n",
       "0                        With Job/Business   \n",
       "1                        With Job/Business   \n",
       "2                        With Job/Business   \n",
       "\n",
       "                           Household Head Occupation  \\\n",
       "0  General elementary education teaching professi...   \n",
       "1                               Transport conductors   \n",
       "2                             Farmhands and laborers   \n",
       "\n",
       "                 Household Head Class of Worker Type of Household  \\\n",
       "0  Worked for government/government corporation   Extended Family   \n",
       "1              Worked for private establishment     Single Family   \n",
       "2              Worked for private establishment     Single Family   \n",
       "\n",
       "   Total Number of Family members  Members with age less than 5 year old  \\\n",
       "0                               4                                      0   \n",
       "1                               3                                      0   \n",
       "2                               6                                      0   \n",
       "\n",
       "   Members with age 5 - 17 years old  Total number of family members employed  \\\n",
       "0                                  1                                        1   \n",
       "1                                  1                                        2   \n",
       "2                                  4                                        3   \n",
       "\n",
       "  Type of Building/House                                       Type of Roof  \\\n",
       "0           Single house  Strong material(galvanized,iron,al,tile,concre...   \n",
       "1           Single house  Strong material(galvanized,iron,al,tile,concre...   \n",
       "2           Single house                 Light material (cogon,nipa,anahaw)   \n",
       "\n",
       "  Type of Walls  House Floor Area  House Age  Number of bedrooms  \\\n",
       "0        Strong                80         75                   3   \n",
       "1        Strong                42         15                   2   \n",
       "2         Light                35         12                   1   \n",
       "\n",
       "                                   Tenure Status  \\\n",
       "0  Own or owner-like possession of house and lot   \n",
       "1  Own or owner-like possession of house and lot   \n",
       "2  Own or owner-like possession of house and lot   \n",
       "\n",
       "                                   Toilet Facilities  Electricity  \\\n",
       "0  Water-sealed, sewer septic tank, used exclusiv...            1   \n",
       "1  Water-sealed, sewer septic tank, used exclusiv...            1   \n",
       "2  Water-sealed, sewer septic tank, shared with o...            0   \n",
       "\n",
       "               Main Source of Water Supply  Number of Television  \\\n",
       "0  Own use, faucet, community water system                     1   \n",
       "1  Own use, faucet, community water system                     1   \n",
       "2   Shared, faucet, community water system                     0   \n",
       "\n",
       "   Number of CD/VCD/DVD  Number of Component/Stereo set  \\\n",
       "0                     1                               0   \n",
       "1                     1                               1   \n",
       "2                     0                               0   \n",
       "\n",
       "   Number of Refrigerator/Freezer  Number of Washing Machine  \\\n",
       "0                               1                          1   \n",
       "1                               0                          1   \n",
       "2                               0                          0   \n",
       "\n",
       "   Number of Airconditioner  Number of Car, Jeep, Van  \\\n",
       "0                         0                         0   \n",
       "1                         0                         0   \n",
       "2                         0                         0   \n",
       "\n",
       "   Number of Landline/wireless telephones  Number of Cellular phone  \\\n",
       "0                                       0                         2   \n",
       "1                                       0                         3   \n",
       "2                                       0                         0   \n",
       "\n",
       "   Number of Personal Computer  Number of Stove with Oven/Gas Range  \\\n",
       "0                            1                                    0   \n",
       "1                            1                                    0   \n",
       "2                            0                                    0   \n",
       "\n",
       "   Number of Motorized Banca  Number of Motorcycle/Tricycle  \n",
       "0                          0                              1  \n",
       "1                          0                              2  \n",
       "2                          0                              0  "
      ]
     },
     "execution_count": 5,
     "metadata": {},
     "output_type": "execute_result"
    }
   ],
   "source": [
    "df.head(3)"
   ]
  },
  {
   "cell_type": "code",
   "execution_count": 6,
   "id": "4ba44050",
   "metadata": {
    "execution": {
     "iopub.execute_input": "2022-07-11T10:59:53.449588Z",
     "iopub.status.busy": "2022-07-11T10:59:53.448657Z",
     "iopub.status.idle": "2022-07-11T10:59:53.459296Z",
     "shell.execute_reply": "2022-07-11T10:59:53.458537Z"
    },
    "papermill": {
     "duration": 0.027071,
     "end_time": "2022-07-11T10:59:53.461356",
     "exception": false,
     "start_time": "2022-07-11T10:59:53.434285",
     "status": "completed"
    },
    "tags": []
   },
   "outputs": [
    {
     "data": {
      "text/plain": [
       "IVA - CALABARZON             4162\n",
       "NCR                          4130\n",
       "III - Central Luzon          3237\n",
       "VI - Western Visayas         2851\n",
       "VII - Central Visayas        2541\n",
       "V - Bicol Region             2472\n",
       "XI - Davao Region            2446\n",
       "I - Ilocos Region            2348\n",
       "VIII - Eastern Visayas       2337\n",
       " ARMM                        2248\n",
       "II - Cagayan Valley          2219\n",
       "XII - SOCCSKSARGEN           2122\n",
       "X - Northern Mindanao        1887\n",
       "IX - Zasmboanga Peninsula    1788\n",
       "Caraga                       1782\n",
       "CAR                          1725\n",
       "IVB - MIMAROPA               1249\n",
       "Name: Region, dtype: int64"
      ]
     },
     "execution_count": 6,
     "metadata": {},
     "output_type": "execute_result"
    }
   ],
   "source": [
    "df['Region'].value_counts()"
   ]
  },
  {
   "cell_type": "markdown",
   "id": "e53e2eba",
   "metadata": {
    "papermill": {
     "duration": 0.012747,
     "end_time": "2022-07-11T10:59:53.487063",
     "exception": false,
     "start_time": "2022-07-11T10:59:53.474316",
     "status": "completed"
    },
    "tags": []
   },
   "source": [
    "Region names are too long, let's use the roman numerals for it to be easier to read."
   ]
  },
  {
   "cell_type": "code",
   "execution_count": 7,
   "id": "fd5e154d",
   "metadata": {
    "execution": {
     "iopub.execute_input": "2022-07-11T10:59:53.514905Z",
     "iopub.status.busy": "2022-07-11T10:59:53.514514Z",
     "iopub.status.idle": "2022-07-11T10:59:53.540111Z",
     "shell.execute_reply": "2022-07-11T10:59:53.539299Z"
    },
    "papermill": {
     "duration": 0.042133,
     "end_time": "2022-07-11T10:59:53.542024",
     "exception": false,
     "start_time": "2022-07-11T10:59:53.499891",
     "status": "completed"
    },
    "tags": []
   },
   "outputs": [
    {
     "data": {
      "text/plain": [
       "IVA       4162\n",
       "NCR       4130\n",
       "III       3237\n",
       "VI        2851\n",
       "VII       2541\n",
       "V         2472\n",
       "XI        2446\n",
       "I         2348\n",
       "VIII      2337\n",
       "ARMM      2248\n",
       "II        2219\n",
       "XII       2122\n",
       "X         1887\n",
       "IX        1788\n",
       "Caraga    1782\n",
       "CAR       1725\n",
       "IVB       1249\n",
       "Name: Region_num, dtype: int64"
      ]
     },
     "execution_count": 7,
     "metadata": {},
     "output_type": "execute_result"
    }
   ],
   "source": [
    "df['Region_num'] = [x.split()[0] for x in df['Region']]\n",
    "df['Region_num'].value_counts()"
   ]
  },
  {
   "cell_type": "code",
   "execution_count": 8,
   "id": "083b4ce4",
   "metadata": {
    "execution": {
     "iopub.execute_input": "2022-07-11T10:59:53.569884Z",
     "iopub.status.busy": "2022-07-11T10:59:53.569475Z",
     "iopub.status.idle": "2022-07-11T10:59:56.069520Z",
     "shell.execute_reply": "2022-07-11T10:59:56.068329Z"
    },
    "papermill": {
     "duration": 2.516358,
     "end_time": "2022-07-11T10:59:56.071524",
     "exception": false,
     "start_time": "2022-07-11T10:59:53.555166",
     "status": "completed"
    },
    "tags": []
   },
   "outputs": [
    {
     "data": {
      "image/png": "[encoded data removed]",
      "text/plain": [
       "<Figure size 432x288 with 1 Axes>"
      ]
     },
     "metadata": {
      "needs_background": "light"
     },
     "output_type": "display_data"
    }
   ],
   "source": [
    "sns.histplot(df['Total Household Income'])\n",
    "ax = plt.gca()\n",
    "ax.set_xscale('log')"
   ]
  },
  {
   "cell_type": "markdown",
   "id": "99fd1251",
   "metadata": {
    "papermill": {
     "duration": 0.012995,
     "end_time": "2022-07-11T10:59:56.098389",
     "exception": false,
     "start_time": "2022-07-11T10:59:56.085394",
     "status": "completed"
    },
    "tags": []
   },
   "source": [
    "Relationship between total household income and total food expenditure."
   ]
  },
  {
   "cell_type": "code",
   "execution_count": 9,
   "id": "4c0c2b47",
   "metadata": {
    "execution": {
     "iopub.execute_input": "2022-07-11T10:59:56.128213Z",
     "iopub.status.busy": "2022-07-11T10:59:56.127632Z",
     "iopub.status.idle": "2022-07-11T10:59:56.390653Z",
     "shell.execute_reply": "2022-07-11T10:59:56.389509Z"
    },
    "papermill": {
     "duration": 0.280121,
     "end_time": "2022-07-11T10:59:56.392978",
     "exception": false,
     "start_time": "2022-07-11T10:59:56.112857",
     "status": "completed"
    },
    "tags": []
   },
   "outputs": [
    {
     "data": {
      "text/plain": [
       "Text(0.5, 0, 'Household Income')"
      ]
     },
     "execution_count": 9,
     "metadata": {},
     "output_type": "execute_result"
    },
    {
     "data": {
      "image/png": "[encoded data removed]",
      "text/plain": [
       "<Figure size 432x288 with 1 Axes>"
      ]
     },
     "metadata": {
      "needs_background": "light"
     },
     "output_type": "display_data"
    }
   ],
   "source": [
    "var = 'Total Food Expenditure'\n",
    "plt.scatter(df['Total Household Income'],df[var])\n",
    "plt.ylabel('Food Expenditure')\n",
    "plt.xlabel('Household Income')"
   ]
  },
  {
   "cell_type": "markdown",
   "id": "388aab71",
   "metadata": {
    "papermill": {
     "duration": 0.014375,
     "end_time": "2022-07-11T10:59:56.421468",
     "exception": false,
     "start_time": "2022-07-11T10:59:56.407093",
     "status": "completed"
    },
    "tags": []
   },
   "source": [
    "Relationship between total household income and Housing and water Expenditure."
   ]
  },
  {
   "cell_type": "code",
   "execution_count": 10,
   "id": "a6f754bf",
   "metadata": {
    "execution": {
     "iopub.execute_input": "2022-07-11T10:59:56.451193Z",
     "iopub.status.busy": "2022-07-11T10:59:56.450352Z",
     "iopub.status.idle": "2022-07-11T10:59:56.701741Z",
     "shell.execute_reply": "2022-07-11T10:59:56.701016Z"
    },
    "papermill": {
     "duration": 0.268446,
     "end_time": "2022-07-11T10:59:56.703824",
     "exception": false,
     "start_time": "2022-07-11T10:59:56.435378",
     "status": "completed"
    },
    "tags": []
   },
   "outputs": [
    {
     "data": {
      "text/plain": [
       "Text(0.5, 0, 'Household Income')"
      ]
     },
     "execution_count": 10,
     "metadata": {},
     "output_type": "execute_result"
    },
    {
     "data": {
      "image/png": "[encoded data removed]",
      "text/plain": [
       "<Figure size 432x288 with 1 Axes>"
      ]
     },
     "metadata": {
      "needs_background": "light"
     },
     "output_type": "display_data"
    }
   ],
   "source": [
    "var = 'Housing and water Expenditure'\n",
    "plt.scatter(df['Total Household Income'],df[var])\n",
    "plt.ylabel('Housing, water Expenditure')\n",
    "plt.xlabel('Household Income')"
   ]
  },
  {
   "cell_type": "markdown",
   "id": "fe1ee4f0",
   "metadata": {
    "papermill": {
     "duration": 0.014174,
     "end_time": "2022-07-11T10:59:56.732732",
     "exception": false,
     "start_time": "2022-07-11T10:59:56.718558",
     "status": "completed"
    },
    "tags": []
   },
   "source": [
    "Relationship between total household income and Medical Care Expenditure."
   ]
  },
  {
   "cell_type": "code",
   "execution_count": 11,
   "id": "0b2a1bba",
   "metadata": {
    "execution": {
     "iopub.execute_input": "2022-07-11T10:59:56.763187Z",
     "iopub.status.busy": "2022-07-11T10:59:56.762210Z",
     "iopub.status.idle": "2022-07-11T10:59:57.021451Z",
     "shell.execute_reply": "2022-07-11T10:59:57.020687Z"
    },
    "papermill": {
     "duration": 0.276575,
     "end_time": "2022-07-11T10:59:57.023473",
     "exception": false,
     "start_time": "2022-07-11T10:59:56.746898",
     "status": "completed"
    },
    "tags": []
   },
   "outputs": [
    {
     "data": {
      "text/plain": [
       "Text(0.5, 0, 'Household Income')"
      ]
     },
     "execution_count": 11,
     "metadata": {},
     "output_type": "execute_result"
    },
    {
     "data": {
      "image/png": "[encoded data removed]",
      "text/plain": [
       "<Figure size 432x288 with 1 Axes>"
      ]
     },
     "metadata": {
      "needs_background": "light"
     },
     "output_type": "display_data"
    }
   ],
   "source": [
    "var = 'Medical Care Expenditure'\n",
    "plt.scatter(df['Total Household Income'],df[var])\n",
    "plt.ylabel('Medical Care Expenditure')\n",
    "plt.xlabel('Household Income')"
   ]
  },
  {
   "cell_type": "markdown",
   "id": "a373e16a",
   "metadata": {
    "papermill": {
     "duration": 0.014254,
     "end_time": "2022-07-11T10:59:57.052381",
     "exception": false,
     "start_time": "2022-07-11T10:59:57.038127",
     "status": "completed"
    },
    "tags": []
   },
   "source": [
    "Relationship between total household income and Education Expenditure."
   ]
  },
  {
   "cell_type": "code",
   "execution_count": 12,
   "id": "8fc5b604",
   "metadata": {
    "execution": {
     "iopub.execute_input": "2022-07-11T10:59:57.083457Z",
     "iopub.status.busy": "2022-07-11T10:59:57.082733Z",
     "iopub.status.idle": "2022-07-11T10:59:57.295189Z",
     "shell.execute_reply": "2022-07-11T10:59:57.294381Z"
    },
    "papermill": {
     "duration": 0.230451,
     "end_time": "2022-07-11T10:59:57.297349",
     "exception": false,
     "start_time": "2022-07-11T10:59:57.066898",
     "status": "completed"
    },
    "tags": []
   },
   "outputs": [
    {
     "data": {
      "text/plain": [
       "Text(0.5, 0, 'Household Income')"
      ]
     },
     "execution_count": 12,
     "metadata": {},
     "output_type": "execute_result"
    },
    {
     "data": {
      "image/png": "[encoded data removed]",
      "text/plain": [
       "<Figure size 432x288 with 1 Axes>"
      ]
     },
     "metadata": {
      "needs_background": "light"
     },
     "output_type": "display_data"
    }
   ],
   "source": [
    "var = 'Education Expenditure'\n",
    "plt.scatter(df['Total Household Income'],df[var])\n",
    "plt.ylabel('Education Expenditure')\n",
    "plt.xlabel('Household Income')"
   ]
  },
  {
   "cell_type": "markdown",
   "id": "216c819c",
   "metadata": {
    "papermill": {
     "duration": 0.014951,
     "end_time": "2022-07-11T10:59:57.328434",
     "exception": false,
     "start_time": "2022-07-11T10:59:57.313483",
     "status": "completed"
    },
    "tags": []
   },
   "source": [
    "Relationship between total household income and Total Income from Entrepreneurial Acitivites."
   ]
  },
  {
   "cell_type": "code",
   "execution_count": 13,
   "id": "e11d41cd",
   "metadata": {
    "execution": {
     "iopub.execute_input": "2022-07-11T10:59:57.360792Z",
     "iopub.status.busy": "2022-07-11T10:59:57.360418Z",
     "iopub.status.idle": "2022-07-11T10:59:57.563280Z",
     "shell.execute_reply": "2022-07-11T10:59:57.562239Z"
    },
    "papermill": {
     "duration": 0.221891,
     "end_time": "2022-07-11T10:59:57.565459",
     "exception": false,
     "start_time": "2022-07-11T10:59:57.343568",
     "status": "completed"
    },
    "tags": []
   },
   "outputs": [
    {
     "data": {
      "text/plain": [
       "Text(0.5, 0, 'Household Income')"
      ]
     },
     "execution_count": 13,
     "metadata": {},
     "output_type": "execute_result"
    },
    {
     "data": {
      "image/png": "[encoded data removed]",
      "text/plain": [
       "<Figure size 432x288 with 1 Axes>"
      ]
     },
     "metadata": {
      "needs_background": "light"
     },
     "output_type": "display_data"
    }
   ],
   "source": [
    "var = 'Total Income from Entrepreneurial Acitivites'\n",
    "plt.scatter(df['Total Household Income'],df[var])\n",
    "plt.ylabel('Income from \\nEntrepreneurial Acitivites')\n",
    "plt.xlabel('Household Income')"
   ]
  },
  {
   "cell_type": "markdown",
   "id": "0373f93e",
   "metadata": {
    "papermill": {
     "duration": 0.014999,
     "end_time": "2022-07-11T10:59:57.595604",
     "exception": false,
     "start_time": "2022-07-11T10:59:57.580605",
     "status": "completed"
    },
    "tags": []
   },
   "source": [
    "We could notice that there are plenty of outliers, thanks to these graphs, we could find out which of the datapoints we should remove"
   ]
  },
  {
   "cell_type": "code",
   "execution_count": 14,
   "id": "8b0176f0",
   "metadata": {
    "execution": {
     "iopub.execute_input": "2022-07-11T10:59:57.627545Z",
     "iopub.status.busy": "2022-07-11T10:59:57.626628Z",
     "iopub.status.idle": "2022-07-11T10:59:57.985373Z",
     "shell.execute_reply": "2022-07-11T10:59:57.984132Z"
    },
    "papermill": {
     "duration": 0.377364,
     "end_time": "2022-07-11T10:59:57.987737",
     "exception": false,
     "start_time": "2022-07-11T10:59:57.610373",
     "status": "completed"
    },
    "tags": []
   },
   "outputs": [
    {
     "data": {
      "text/plain": [
       "<matplotlib.collections.PathCollection at 0x7f170f3c4150>"
      ]
     },
     "execution_count": 14,
     "metadata": {},
     "output_type": "execute_result"
    },
    {
     "data": {
      "image/png": "[encoded data removed]",
      "text/plain": [
       "<Figure size 720x216 with 2 Axes>"
      ]
     },
     "metadata": {
      "needs_background": "light"
     },
     "output_type": "display_data"
    }
   ],
   "source": [
    "fig, (ax1,ax2) = plt.subplots(nrows = 1, ncols = 2)\n",
    "plt.gcf().set_size_inches(10,3)\n",
    "ax1.plot(df['Total Household Income'])\n",
    "ax2.scatter(df['Total Household Income'],df['Total Household Income'])\n",
    "# we can see that there are an outlier, we could also notice it from the different plots above.\n",
    "# those outliers are those earning more than 5 million pesos a year"
   ]
  },
  {
   "cell_type": "markdown",
   "id": "6807484b",
   "metadata": {
    "papermill": {
     "duration": 0.016704,
     "end_time": "2022-07-11T10:59:58.028347",
     "exception": false,
     "start_time": "2022-07-11T10:59:58.011643",
     "status": "completed"
    },
    "tags": []
   },
   "source": [
    "We should first sort the databy household income to remove outliers.\n",
    "By doing this, we could remove 10 data points which would be worth removing because there are 41525 other data points and removing 10 wouldn't disrupt the data that much."
   ]
  },
  {
   "cell_type": "code",
   "execution_count": 15,
   "id": "f3254bcf",
   "metadata": {
    "execution": {
     "iopub.execute_input": "2022-07-11T10:59:58.063264Z",
     "iopub.status.busy": "2022-07-11T10:59:58.062358Z",
     "iopub.status.idle": "2022-07-11T10:59:58.140236Z",
     "shell.execute_reply": "2022-07-11T10:59:58.139109Z"
    },
    "papermill": {
     "duration": 0.098041,
     "end_time": "2022-07-11T10:59:58.142815",
     "exception": false,
     "start_time": "2022-07-11T10:59:58.044774",
     "status": "completed"
    },
    "tags": []
   },
   "outputs": [],
   "source": [
    "max_income = df.sort_values('Total Household Income',ascending = False)\n",
    "df = df.drop([2139,1238,30865,9382,39302,11546,36286,4046,2505,2505])\n",
    "df.sort_index(inplace = True)"
   ]
  },
  {
   "cell_type": "markdown",
   "id": "60ba82af",
   "metadata": {
    "papermill": {
     "duration": 0.015083,
     "end_time": "2022-07-11T10:59:58.173186",
     "exception": false,
     "start_time": "2022-07-11T10:59:58.158103",
     "status": "completed"
    },
    "tags": []
   },
   "source": [
    "We should check if the data is clean, and if there are still outliers."
   ]
  },
  {
   "cell_type": "code",
   "execution_count": 16,
   "id": "8b0c75ce",
   "metadata": {
    "execution": {
     "iopub.execute_input": "2022-07-11T10:59:58.206435Z",
     "iopub.status.busy": "2022-07-11T10:59:58.205700Z",
     "iopub.status.idle": "2022-07-11T10:59:58.516665Z",
     "shell.execute_reply": "2022-07-11T10:59:58.515936Z"
    },
    "papermill": {
     "duration": 0.329561,
     "end_time": "2022-07-11T10:59:58.518544",
     "exception": false,
     "start_time": "2022-07-11T10:59:58.188983",
     "status": "completed"
    },
    "tags": []
   },
   "outputs": [
    {
     "data": {
      "text/plain": [
       "<matplotlib.collections.PathCollection at 0x7f170f2b7690>"
      ]
     },
     "execution_count": 16,
     "metadata": {},
     "output_type": "execute_result"
    },
    {
     "data": {
      "image/png": "[encoded data removed]",
      "text/plain": [
       "<Figure size 720x216 with 2 Axes>"
      ]
     },
     "metadata": {
      "needs_background": "light"
     },
     "output_type": "display_data"
    }
   ],
   "source": [
    "fig, (ax1,ax2) = plt.subplots(nrows = 1, ncols = 2)\n",
    "plt.gcf().set_size_inches(10,3)\n",
    "ax1.plot(df['Total Household Income'])\n",
    "ax2.scatter(df['Total Household Income'],df['Total Household Income'])"
   ]
  },
  {
   "cell_type": "code",
   "execution_count": 17,
   "id": "bf0fc42e",
   "metadata": {
    "execution": {
     "iopub.execute_input": "2022-07-11T10:59:58.552506Z",
     "iopub.status.busy": "2022-07-11T10:59:58.551583Z",
     "iopub.status.idle": "2022-07-11T10:59:59.886227Z",
     "shell.execute_reply": "2022-07-11T10:59:59.885444Z"
    },
    "papermill": {
     "duration": 1.354072,
     "end_time": "2022-07-11T10:59:59.888566",
     "exception": false,
     "start_time": "2022-07-11T10:59:58.534494",
     "status": "completed"
    },
    "tags": []
   },
   "outputs": [
    {
     "data": {
      "image/png": "[encoded data removed]",
      "text/plain": [
       "<Figure size 432x288 with 1 Axes>"
      ]
     },
     "metadata": {
      "needs_background": "light"
     },
     "output_type": "display_data"
    }
   ],
   "source": [
    "sns.histplot(df['Total Household Income'])\n",
    "ax = plt.gca()\n",
    "ax.set_xscale('log')"
   ]
  },
  {
   "cell_type": "code",
   "execution_count": 18,
   "id": "4f09ddb3",
   "metadata": {
    "execution": {
     "iopub.execute_input": "2022-07-11T10:59:59.923946Z",
     "iopub.status.busy": "2022-07-11T10:59:59.923272Z",
     "iopub.status.idle": "2022-07-11T11:00:00.179035Z",
     "shell.execute_reply": "2022-07-11T11:00:00.178181Z"
    },
    "papermill": {
     "duration": 0.276381,
     "end_time": "2022-07-11T11:00:00.181232",
     "exception": false,
     "start_time": "2022-07-11T10:59:59.904851",
     "status": "completed"
    },
    "tags": []
   },
   "outputs": [
    {
     "data": {
      "text/plain": [
       "Text(0.5, 0, 'Household Income')"
      ]
     },
     "execution_count": 18,
     "metadata": {},
     "output_type": "execute_result"
    },
    {
     "data": {
      "image/png": "[encoded data removed]",
      "text/plain": [
       "<Figure size 432x288 with 1 Axes>"
      ]
     },
     "metadata": {
      "needs_background": "light"
     },
     "output_type": "display_data"
    }
   ],
   "source": [
    "var = 'Total Food Expenditure'\n",
    "plt.scatter(df['Total Household Income'],df[var])\n",
    "plt.ylabel('Food Expenditure')\n",
    "plt.xlabel('Household Income')"
   ]
  },
  {
   "cell_type": "code",
   "execution_count": 19,
   "id": "c5f7cc63",
   "metadata": {
    "execution": {
     "iopub.execute_input": "2022-07-11T11:00:00.218035Z",
     "iopub.status.busy": "2022-07-11T11:00:00.217369Z",
     "iopub.status.idle": "2022-07-11T11:00:00.477791Z",
     "shell.execute_reply": "2022-07-11T11:00:00.476562Z"
    },
    "papermill": {
     "duration": 0.282511,
     "end_time": "2022-07-11T11:00:00.480027",
     "exception": false,
     "start_time": "2022-07-11T11:00:00.197516",
     "status": "completed"
    },
    "tags": []
   },
   "outputs": [
    {
     "data": {
      "text/plain": [
       "Text(0.5, 0, 'Household Income')"
      ]
     },
     "execution_count": 19,
     "metadata": {},
     "output_type": "execute_result"
    },
    {
     "data": {
      "image/png": "[encoded data removed]",
      "text/plain": [
       "<Figure size 432x288 with 1 Axes>"
      ]
     },
     "metadata": {
      "needs_background": "light"
     },
     "output_type": "display_data"
    }
   ],
   "source": [
    "var = 'Housing and water Expenditure'\n",
    "plt.scatter(df['Total Household Income'],df[var])\n",
    "plt.ylabel('Housing and water Expenditure')\n",
    "plt.xlabel('Household Income')"
   ]
  },
  {
   "cell_type": "code",
   "execution_count": 20,
   "id": "9bc8f5af",
   "metadata": {
    "execution": {
     "iopub.execute_input": "2022-07-11T11:00:00.515427Z",
     "iopub.status.busy": "2022-07-11T11:00:00.514509Z",
     "iopub.status.idle": "2022-07-11T11:00:00.774920Z",
     "shell.execute_reply": "2022-07-11T11:00:00.773565Z"
    },
    "papermill": {
     "duration": 0.280763,
     "end_time": "2022-07-11T11:00:00.777439",
     "exception": false,
     "start_time": "2022-07-11T11:00:00.496676",
     "status": "completed"
    },
    "tags": []
   },
   "outputs": [
    {
     "data": {
      "text/plain": [
       "Text(0.5, 0, 'Household Income')"
      ]
     },
     "execution_count": 20,
     "metadata": {},
     "output_type": "execute_result"
    },
    {
     "data": {
      "image/png": "[encoded data removed]",
      "text/plain": [
       "<Figure size 432x288 with 1 Axes>"
      ]
     },
     "metadata": {
      "needs_background": "light"
     },
     "output_type": "display_data"
    }
   ],
   "source": [
    "var = 'Medical Care Expenditure'\n",
    "plt.scatter(df['Total Household Income'],df[var])\n",
    "plt.ylabel('Medical Care Expenditure')\n",
    "plt.xlabel('Household Income')"
   ]
  },
  {
   "cell_type": "code",
   "execution_count": 21,
   "id": "38e91cdc",
   "metadata": {
    "execution": {
     "iopub.execute_input": "2022-07-11T11:00:00.815147Z",
     "iopub.status.busy": "2022-07-11T11:00:00.814365Z",
     "iopub.status.idle": "2022-07-11T11:00:01.068080Z",
     "shell.execute_reply": "2022-07-11T11:00:01.067186Z"
    },
    "papermill": {
     "duration": 0.275153,
     "end_time": "2022-07-11T11:00:01.070052",
     "exception": false,
     "start_time": "2022-07-11T11:00:00.794899",
     "status": "completed"
    },
    "tags": []
   },
   "outputs": [
    {
     "data": {
      "text/plain": [
       "Text(0.5, 0, 'Household Income')"
      ]
     },
     "execution_count": 21,
     "metadata": {},
     "output_type": "execute_result"
    },
    {
     "data": {
      "image/png": "[encoded data removed]",
      "text/plain": [
       "<Figure size 432x288 with 1 Axes>"
      ]
     },
     "metadata": {
      "needs_background": "light"
     },
     "output_type": "display_data"
    }
   ],
   "source": [
    "var = 'Education Expenditure'\n",
    "plt.scatter(df['Total Household Income'],df[var])\n",
    "plt.ylabel('Education Expenditure')\n",
    "plt.xlabel('Household Income')"
   ]
  },
  {
   "cell_type": "code",
   "execution_count": 22,
   "id": "c685652b",
   "metadata": {
    "execution": {
     "iopub.execute_input": "2022-07-11T11:00:01.112872Z",
     "iopub.status.busy": "2022-07-11T11:00:01.112234Z",
     "iopub.status.idle": "2022-07-11T11:00:01.363195Z",
     "shell.execute_reply": "2022-07-11T11:00:01.362403Z"
    },
    "papermill": {
     "duration": 0.276858,
     "end_time": "2022-07-11T11:00:01.366525",
     "exception": false,
     "start_time": "2022-07-11T11:00:01.089667",
     "status": "completed"
    },
    "tags": []
   },
   "outputs": [
    {
     "data": {
      "text/plain": [
       "Text(0.5, 0, 'Household Income')"
      ]
     },
     "execution_count": 22,
     "metadata": {},
     "output_type": "execute_result"
    },
    {
     "data": {
      "image/png": "[encoded data removed]",
      "text/plain": [
       "<Figure size 432x288 with 1 Axes>"
      ]
     },
     "metadata": {
      "needs_background": "light"
     },
     "output_type": "display_data"
    }
   ],
   "source": [
    "var = 'Total Income from Entrepreneurial Acitivites'\n",
    "plt.scatter(df['Total Household Income'],df[var])\n",
    "plt.ylabel('Income from \\n Entrepreneurial Acitivites')\n",
    "plt.xlabel('Household Income')"
   ]
  },
  {
   "cell_type": "markdown",
   "id": "7f891a4b",
   "metadata": {
    "papermill": {
     "duration": 0.018078,
     "end_time": "2022-07-11T11:00:01.402692",
     "exception": false,
     "start_time": "2022-07-11T11:00:01.384614",
     "status": "completed"
    },
    "tags": []
   },
   "source": [
    "Based on the graphs above, there are no more outliers. We could then proceed to analyzing the data."
   ]
  },
  {
   "cell_type": "markdown",
   "id": "cf5bc64c",
   "metadata": {
    "papermill": {
     "duration": 0.017575,
     "end_time": "2022-07-11T11:00:01.438141",
     "exception": false,
     "start_time": "2022-07-11T11:00:01.420566",
     "status": "completed"
    },
    "tags": []
   },
   "source": [
    "# **Data Exploration and Vizualization**\n",
    "\n",
    "Let us first find out which regions are the richest, and which regions are the poorest."
   ]
  },
  {
   "cell_type": "code",
   "execution_count": 23,
   "id": "a0f7df6e",
   "metadata": {
    "execution": {
     "iopub.execute_input": "2022-07-11T11:00:01.475867Z",
     "iopub.status.busy": "2022-07-11T11:00:01.475213Z",
     "iopub.status.idle": "2022-07-11T11:00:01.486589Z",
     "shell.execute_reply": "2022-07-11T11:00:01.485827Z"
    },
    "papermill": {
     "duration": 0.032728,
     "end_time": "2022-07-11T11:00:01.488771",
     "exception": false,
     "start_time": "2022-07-11T11:00:01.456043",
     "status": "completed"
    },
    "tags": []
   },
   "outputs": [],
   "source": [
    "region_grp = df.groupby('Region_num')\n",
    "reg_income = region_grp['Total Household Income'].mean()\n",
    "reg_income_df = pd.DataFrame(reg_income)"
   ]
  },
  {
   "cell_type": "code",
   "execution_count": 24,
   "id": "c61b7439",
   "metadata": {
    "execution": {
     "iopub.execute_input": "2022-07-11T11:00:01.527271Z",
     "iopub.status.busy": "2022-07-11T11:00:01.526671Z",
     "iopub.status.idle": "2022-07-11T11:00:01.821903Z",
     "shell.execute_reply": "2022-07-11T11:00:01.820812Z"
    },
    "papermill": {
     "duration": 0.317223,
     "end_time": "2022-07-11T11:00:01.824126",
     "exception": false,
     "start_time": "2022-07-11T11:00:01.506903",
     "status": "completed"
    },
    "tags": []
   },
   "outputs": [
    {
     "data": {
      "text/plain": [
       "Text(0.5, 1.0, 'Annual Household Income per Region')"
      ]
     },
     "execution_count": 24,
     "metadata": {},
     "output_type": "execute_result"
    },
    {
     "data": {
      "image/png": "[encoded data removed]",
      "text/plain": [
       "<Figure size 432x288 with 2 Axes>"
      ]
     },
     "metadata": {
      "needs_background": "light"
     },
     "output_type": "display_data"
    }
   ],
   "source": [
    "reg_income_df.sort_index(ascending = False)\n",
    "plt.clf()\n",
    "plt.colorbar(plt.scatter (reg_income, reg_income, c = reg_income, cmap = 'Blues'))\n",
    "colors = cm.Blues(reg_income / float (max (reg_income)))\n",
    "plt.barh(reg_income_df.index, reg_income, color = colors)\n",
    "plt.title('Annual Household Income per Region', color = 'black')"
   ]
  },
  {
   "cell_type": "markdown",
   "id": "ace0eea1",
   "metadata": {
    "papermill": {
     "duration": 0.018492,
     "end_time": "2022-07-11T11:00:01.861589",
     "exception": false,
     "start_time": "2022-07-11T11:00:01.843097",
     "status": "completed"
    },
    "tags": []
   },
   "source": [
    "Based on the graph above, NCR, Region IVA, and III, are considered as the richest region in the country with NCR leading the pact with an average of over 420,000 pesos annual income. ARMM, region V, IX, VIII, XII are considered as the poorest region in the country. ARMM, the Autonomous Region of Muslim Mindanao is the poorest region in the country due to the lack of funding from the national government and corrupt politicians.\n",
    "\n",
    "Let us then findout which regions are agricultural and which regions that are non-agricultural."
   ]
  },
  {
   "cell_type": "code",
   "execution_count": 25,
   "id": "538b14f4",
   "metadata": {
    "execution": {
     "iopub.execute_input": "2022-07-11T11:00:01.905056Z",
     "iopub.status.busy": "2022-07-11T11:00:01.904307Z",
     "iopub.status.idle": "2022-07-11T11:00:01.920544Z",
     "shell.execute_reply": "2022-07-11T11:00:01.919291Z"
    },
    "papermill": {
     "duration": 0.041473,
     "end_time": "2022-07-11T11:00:01.922907",
     "exception": false,
     "start_time": "2022-07-11T11:00:01.881434",
     "status": "completed"
    },
    "tags": []
   },
   "outputs": [],
   "source": [
    "reg_grp = df.groupby(['Agricultural Household indicator'])\n",
    "agr = pd.DataFrame(reg_grp['Region_num'].value_counts())\n",
    "me = df['Total Household Income']\n",
    "agr0 = agr.loc[0].sort_index()\n",
    "agr1 = agr.loc[1].sort_index()\n",
    "agr2 = agr.loc[2].sort_index()"
   ]
  },
  {
   "cell_type": "code",
   "execution_count": 26,
   "id": "f24617bd",
   "metadata": {
    "execution": {
     "iopub.execute_input": "2022-07-11T11:00:01.961736Z",
     "iopub.status.busy": "2022-07-11T11:00:01.961359Z",
     "iopub.status.idle": "2022-07-11T11:00:02.219577Z",
     "shell.execute_reply": "2022-07-11T11:00:02.218372Z"
    },
    "papermill": {
     "duration": 0.280925,
     "end_time": "2022-07-11T11:00:02.222157",
     "exception": false,
     "start_time": "2022-07-11T11:00:01.941232",
     "status": "completed"
    },
    "tags": []
   },
   "outputs": [
    {
     "data": {
      "text/plain": [
       "Text(0.5, 1.0, 'Non-Agricultural Regions')"
      ]
     },
     "execution_count": 26,
     "metadata": {},
     "output_type": "execute_result"
    },
    {
     "data": {
      "image/png": "[encoded data removed]",
      "text/plain": [
       "<Figure size 432x288 with 2 Axes>"
      ]
     },
     "metadata": {
      "needs_background": "light"
     },
     "output_type": "display_data"
    }
   ],
   "source": [
    "colors = cm.Blues(agr0['Region_num']/float(max(agr0['Region_num'])))\n",
    "plt.clf()\n",
    "plt.colorbar(plt.scatter(agr0['Region_num'],agr0['Region_num'], c = agr0['Region_num'], cmap = 'Blues'))\n",
    "plt.barh(agr0['Region_num'].index,agr0['Region_num'], color = colors)\n",
    "plt.xticks([])\n",
    "plt.title('Non-Agricultural Regions')"
   ]
  },
  {
   "cell_type": "markdown",
   "id": "047bc7cf",
   "metadata": {
    "papermill": {
     "duration": 0.018999,
     "end_time": "2022-07-11T11:00:02.259772",
     "exception": false,
     "start_time": "2022-07-11T11:00:02.240773",
     "status": "completed"
    },
    "tags": []
   },
   "source": [
    "Region IVA has the most number of non-agricultural households and the region that contains the least amount of household that belongs to the non-agricultural sector is ARMM. Surprisingly, NCR also has a low number of non-agricultural household considering that it is the richest region in the country."
   ]
  },
  {
   "cell_type": "code",
   "execution_count": 27,
   "id": "0f9e0258",
   "metadata": {
    "execution": {
     "iopub.execute_input": "2022-07-11T11:00:02.299654Z",
     "iopub.status.busy": "2022-07-11T11:00:02.298727Z",
     "iopub.status.idle": "2022-07-11T11:00:02.570580Z",
     "shell.execute_reply": "2022-07-11T11:00:02.568886Z"
    },
    "papermill": {
     "duration": 0.294137,
     "end_time": "2022-07-11T11:00:02.573017",
     "exception": false,
     "start_time": "2022-07-11T11:00:02.278880",
     "status": "completed"
    },
    "tags": []
   },
   "outputs": [
    {
     "data": {
      "text/plain": [
       "Text(0.5, 1.0, 'Agricultural Regions')"
      ]
     },
     "execution_count": 27,
     "metadata": {},
     "output_type": "execute_result"
    },
    {
     "data": {
      "image/png": "[encoded data removed]",
      "text/plain": [
       "<Figure size 432x288 with 2 Axes>"
      ]
     },
     "metadata": {
      "needs_background": "light"
     },
     "output_type": "display_data"
    }
   ],
   "source": [
    "colors = cm.Blues(agr1['Region_num']/float(max(agr1['Region_num'])))\n",
    "plt.clf()\n",
    "plt.colorbar(plt.scatter(agr1['Region_num'],agr1['Region_num'], c = agr1['Region_num'], cmap = 'Blues'))\n",
    "plt.barh(agr1['Region_num'].index,agr1['Region_num'], color = colors)\n",
    "plt.xticks([])\n",
    "plt.title('Agricultural Regions')"
   ]
  },
  {
   "cell_type": "markdown",
   "id": "54f2279a",
   "metadata": {
    "papermill": {
     "duration": 0.020679,
     "end_time": "2022-07-11T11:00:02.613260",
     "exception": false,
     "start_time": "2022-07-11T11:00:02.592581",
     "status": "completed"
    },
    "tags": []
   },
   "source": [
    "ARMM has the most number of agricultural household in the country, and NCR which has almost zero household that belongs to the agricultural sector."
   ]
  },
  {
   "cell_type": "code",
   "execution_count": 28,
   "id": "a969e912",
   "metadata": {
    "execution": {
     "iopub.execute_input": "2022-07-11T11:00:02.653282Z",
     "iopub.status.busy": "2022-07-11T11:00:02.652920Z",
     "iopub.status.idle": "2022-07-11T11:00:02.880949Z",
     "shell.execute_reply": "2022-07-11T11:00:02.879886Z"
    },
    "papermill": {
     "duration": 0.250874,
     "end_time": "2022-07-11T11:00:02.883289",
     "exception": false,
     "start_time": "2022-07-11T11:00:02.632415",
     "status": "completed"
    },
    "tags": []
   },
   "outputs": [
    {
     "data": {
      "text/plain": [
       "Text(0.5, 1.0, 'Both Agricultural and Non-Regions')"
      ]
     },
     "execution_count": 28,
     "metadata": {},
     "output_type": "execute_result"
    },
    {
     "data": {
      "image/png": "[encoded data removed]",
      "text/plain": [
       "<Figure size 432x288 with 2 Axes>"
      ]
     },
     "metadata": {
      "needs_background": "light"
     },
     "output_type": "display_data"
    }
   ],
   "source": [
    "colors = cm.Blues(agr2['Region_num']/float(max(agr2['Region_num'])))\n",
    "plt.clf()\n",
    "plt.colorbar(plt.scatter(agr2['Region_num'],agr2['Region_num'], c = agr2['Region_num'], cmap = 'Blues'))\n",
    "plt.barh(agr2['Region_num'].index,agr2['Region_num'], color = colors)\n",
    "plt.xticks([])\n",
    "plt.title('Both Agricultural and Non-Regions')"
   ]
  },
  {
   "cell_type": "markdown",
   "id": "f966f960",
   "metadata": {
    "papermill": {
     "duration": 0.019711,
     "end_time": "2022-07-11T11:00:02.922783",
     "exception": false,
     "start_time": "2022-07-11T11:00:02.903072",
     "status": "completed"
    },
    "tags": []
   },
   "source": [
    "The graph above only has data for 8 regions wherein NCR is mainly considered as a mix of agricultural and non-agricultural."
   ]
  },
  {
   "cell_type": "markdown",
   "id": "c0224057",
   "metadata": {
    "papermill": {
     "duration": 0.019778,
     "end_time": "2022-07-11T11:00:02.962175",
     "exception": false,
     "start_time": "2022-07-11T11:00:02.942397",
     "status": "completed"
    },
    "tags": []
   },
   "source": [
    "# **Family Expenditure**\n",
    "\n",
    "Let us find out if there are any correlations between the spending habits of those that belong to each sector of agriculture."
   ]
  },
  {
   "cell_type": "code",
   "execution_count": 29,
   "id": "ac75d215",
   "metadata": {
    "execution": {
     "iopub.execute_input": "2022-07-11T11:00:03.004234Z",
     "iopub.status.busy": "2022-07-11T11:00:03.003825Z",
     "iopub.status.idle": "2022-07-11T11:00:03.272354Z",
     "shell.execute_reply": "2022-07-11T11:00:03.271606Z"
    },
    "papermill": {
     "duration": 0.291957,
     "end_time": "2022-07-11T11:00:03.274385",
     "exception": false,
     "start_time": "2022-07-11T11:00:02.982428",
     "status": "completed"
    },
    "tags": []
   },
   "outputs": [
    {
     "data": {
      "text/plain": [
       "<matplotlib.legend.Legend at 0x7f1713164090>"
      ]
     },
     "execution_count": 29,
     "metadata": {},
     "output_type": "execute_result"
    },
    {
     "data": {
      "image/png": "[encoded data removed]",
      "text/plain": [
       "<Figure size 432x288 with 1 Axes>"
      ]
     },
     "metadata": {
      "needs_background": "light"
     },
     "output_type": "display_data"
    }
   ],
   "source": [
    "rice_region = region_grp['Total Rice Expenditure'].mean()\n",
    "fig, ax2 = plt.subplots()\n",
    "\n",
    "ax2.plot(agr1['Region_num']*10,agr0.index, color = 'k', marker = '.',label = 'Rice Expenditure')\n",
    "ax2.barh(rice_region.index,rice_region,alpha = 0.35,label = 'Income per Region', color ='gray')\n",
    "plt.legend()"
   ]
  },
  {
   "cell_type": "markdown",
   "id": "ce6446b2",
   "metadata": {
    "papermill": {
     "duration": 0.019845,
     "end_time": "2022-07-11T11:00:03.314000",
     "exception": false,
     "start_time": "2022-07-11T11:00:03.294155",
     "status": "completed"
    },
    "tags": []
   },
   "source": [
    "In the graph above, we compared the rice expenditure in terms of the average income per region. It is shown that agricultural regions pay way more rice than those that belong to the non-agricultural regions. This may be due to the fact that the rice produced by these agricultural regions are sent to the higher income regions, such as region IVA, III, and NCR."
   ]
  },
  {
   "cell_type": "code",
   "execution_count": 30,
   "id": "7ce23b42",
   "metadata": {
    "execution": {
     "iopub.execute_input": "2022-07-11T11:00:03.356952Z",
     "iopub.status.busy": "2022-07-11T11:00:03.355993Z",
     "iopub.status.idle": "2022-07-11T11:00:03.649098Z",
     "shell.execute_reply": "2022-07-11T11:00:03.648025Z"
    },
    "papermill": {
     "duration": 0.317454,
     "end_time": "2022-07-11T11:00:03.651476",
     "exception": false,
     "start_time": "2022-07-11T11:00:03.334022",
     "status": "completed"
    },
    "tags": []
   },
   "outputs": [
    {
     "data": {
      "text/plain": [
       "Text(0.5, 1.0, 'Total Food Expenditure')"
      ]
     },
     "execution_count": 30,
     "metadata": {},
     "output_type": "execute_result"
    },
    {
     "data": {
      "image/png": "[encoded data removed]",
      "text/plain": [
       "<Figure size 432x288 with 2 Axes>"
      ]
     },
     "metadata": {
      "needs_background": "light"
     },
     "output_type": "display_data"
    }
   ],
   "source": [
    "food_mean = region_grp['Total Food Expenditure'].mean()\n",
    "colors = cm.Blues(food_mean/float(max(food_mean)))\n",
    "plt.clf()\n",
    "plt.colorbar(plt.scatter(food_mean,food_mean, c = food_mean, cmap = 'Blues'))\n",
    "plt.barh(food_mean.index,food_mean, color = colors)\n",
    "plt.title('Total Food Expenditure')"
   ]
  },
  {
   "cell_type": "markdown",
   "id": "56e1bb98",
   "metadata": {
    "papermill": {
     "duration": 0.020469,
     "end_time": "2022-07-11T11:00:03.692136",
     "exception": false,
     "start_time": "2022-07-11T11:00:03.671667",
     "status": "completed"
    },
    "tags": []
   },
   "source": [
    "When it comes to total food expenditure, high income regions tend to spend more money on food than those that belong to the low income regions. NCR, region IVA, and III spend the most on food."
   ]
  },
  {
   "cell_type": "code",
   "execution_count": 31,
   "id": "e896adcd",
   "metadata": {
    "execution": {
     "iopub.execute_input": "2022-07-11T11:00:03.736554Z",
     "iopub.status.busy": "2022-07-11T11:00:03.735889Z",
     "iopub.status.idle": "2022-07-11T11:00:04.043672Z",
     "shell.execute_reply": "2022-07-11T11:00:04.042537Z"
    },
    "papermill": {
     "duration": 0.332481,
     "end_time": "2022-07-11T11:00:04.045904",
     "exception": false,
     "start_time": "2022-07-11T11:00:03.713423",
     "status": "completed"
    },
    "tags": []
   },
   "outputs": [
    {
     "data": {
      "text/plain": [
       "Region_num\n",
       "ARMM      48.187610\n",
       "CAR       30.170883\n",
       "Caraga    36.521059\n",
       "I         33.870862\n",
       "II        31.930453\n",
       "III       34.200521\n",
       "IVA       34.722364\n",
       "IVB       32.655815\n",
       "IX        36.993641\n",
       "NCR       30.290826\n",
       "V         41.273050\n",
       "VI        37.516352\n",
       "VII       36.282990\n",
       "VIII      36.199802\n",
       "X         29.951065\n",
       "XI        34.394619\n",
       "XII       39.204397\n",
       "dtype: float64"
      ]
     },
     "execution_count": 31,
     "metadata": {},
     "output_type": "execute_result"
    },
    {
     "data": {
      "image/png": "[encoded data removed]",
      "text/plain": [
       "<Figure size 432x288 with 2 Axes>"
      ]
     },
     "metadata": {
      "needs_background": "light"
     },
     "output_type": "display_data"
    }
   ],
   "source": [
    "income_food_mean = (food_mean / reg_income) *100\n",
    "income_food_mean.sort_index(ascending = False)\n",
    "colors = cm.Blues(income_food_mean/float(max(income_food_mean)))\n",
    "plt.clf()\n",
    "plt.colorbar(plt.scatter(income_food_mean,income_food_mean, c = income_food_mean, cmap = 'Blues'))\n",
    "plt.barh(income_food_mean.index,income_food_mean, color = colors)\n",
    "plt.title('% of Food Expenditure in terms of Annual Income')\n",
    "income_food_mean"
   ]
  },
  {
   "cell_type": "markdown",
   "id": "b2892970",
   "metadata": {
    "papermill": {
     "duration": 0.020659,
     "end_time": "2022-07-11T11:00:04.087623",
     "exception": false,
     "start_time": "2022-07-11T11:00:04.066964",
     "status": "completed"
    },
    "tags": []
   },
   "source": [
    "On the previous graph, it is shown that higher income region spends more money on food than those that belong the low income region, but based on the graph above, the percentage of food expenditure in terms of the average annual income of these regions says that poorer region may spend lower than those of richer region, but because of the low earning capabilities of regions such as ARMM, this drives how much money they spend on money. In ARMM, 48% of the total household income of each family goes to food while 30% of the total household income was spend on food by those that belong in NCR. "
   ]
  },
  {
   "cell_type": "code",
   "execution_count": 32,
   "id": "5d5aa881",
   "metadata": {
    "execution": {
     "iopub.execute_input": "2022-07-11T11:00:04.134638Z",
     "iopub.status.busy": "2022-07-11T11:00:04.133506Z",
     "iopub.status.idle": "2022-07-11T11:00:04.339476Z",
     "shell.execute_reply": "2022-07-11T11:00:04.338402Z"
    },
    "papermill": {
     "duration": 0.232268,
     "end_time": "2022-07-11T11:00:04.341629",
     "exception": false,
     "start_time": "2022-07-11T11:00:04.109361",
     "status": "completed"
    },
    "tags": []
   },
   "outputs": [
    {
     "data": {
      "text/plain": [
       "<matplotlib.legend.Legend at 0x7f170fe1ff10>"
      ]
     },
     "execution_count": 32,
     "metadata": {},
     "output_type": "execute_result"
    },
    {
     "data": {
      "image/png": "[encoded data removed]",
      "text/plain": [
       "<Figure size 432x288 with 1 Axes>"
      ]
     },
     "metadata": {
      "needs_background": "light"
     },
     "output_type": "display_data"
    }
   ],
   "source": [
    "mean_rental_house = region_grp['Imputed House Rental Value'].mean()\n",
    "fig, ax1 = plt.subplots()\n",
    "\n",
    "ax1.plot(mean_rental_house,reg_income.index,color = 'k',marker = '.', label = 'Monthly Rental Per Region')\n",
    "ax1.barh(reg_income.index,reg_income/10,label = 'Income per Region',alpha = 0.7)\n",
    "plt.title('Rental Expenditure to Income per Region')\n",
    "plt.legend()"
   ]
  },
  {
   "cell_type": "markdown",
   "id": "314e14ca",
   "metadata": {
    "papermill": {
     "duration": 0.023139,
     "end_time": "2022-07-11T11:00:04.386328",
     "exception": false,
     "start_time": "2022-07-11T11:00:04.363189",
     "status": "completed"
    },
    "tags": []
   },
   "source": [
    "In terms of rental expenditure, we could say that rental cost is relative to the income of all the regions in the Philippines, with NCR having a slight disadvantage of spending more compared to other regions."
   ]
  },
  {
   "cell_type": "code",
   "execution_count": 33,
   "id": "8987373d",
   "metadata": {
    "execution": {
     "iopub.execute_input": "2022-07-11T11:00:04.435611Z",
     "iopub.status.busy": "2022-07-11T11:00:04.435223Z",
     "iopub.status.idle": "2022-07-11T11:00:04.744222Z",
     "shell.execute_reply": "2022-07-11T11:00:04.743043Z"
    },
    "papermill": {
     "duration": 0.336059,
     "end_time": "2022-07-11T11:00:04.746486",
     "exception": false,
     "start_time": "2022-07-11T11:00:04.410427",
     "status": "completed"
    },
    "tags": []
   },
   "outputs": [
    {
     "data": {
      "text/plain": [
       "<BarContainer object of 17 artists>"
      ]
     },
     "execution_count": 33,
     "metadata": {},
     "output_type": "execute_result"
    },
    {
     "data": {
      "image/png": "[encoded data removed]",
      "text/plain": [
       "<Figure size 432x288 with 2 Axes>"
      ]
     },
     "metadata": {
      "needs_background": "light"
     },
     "output_type": "display_data"
    }
   ],
   "source": [
    "leisure_exp = region_grp['Restaurant and hotels Expenditure'].sum()+region_grp['Alcoholic Beverages Expenditure'].sum()+ region_grp['Tobacco Expenditure'].sum()+region_grp['Clothing, Footwear and Other Wear Expenditure'].sum()\n",
    "colors = cm.Blues(leisure_exp/float(max(leisure_exp)))\n",
    "plt.clf()\n",
    "plt.colorbar(plt.scatter(leisure_exp,leisure_exp, c = leisure_exp, cmap = 'Blues'))\n",
    "plt.title('Leisure Expenditure per Region')\n",
    "plt.barh(leisure_exp.index,leisure_exp, color = colors)"
   ]
  },
  {
   "cell_type": "markdown",
   "id": "8cf5c698",
   "metadata": {
    "papermill": {
     "duration": 0.021626,
     "end_time": "2022-07-11T11:00:04.789784",
     "exception": false,
     "start_time": "2022-07-11T11:00:04.768158",
     "status": "completed"
    },
    "tags": []
   },
   "source": [
    "Let us now compare the leisure expenses of each region in the Philippines. Leisure expenses includes restaurants expenses, hotel expenses, alcohol expenses, tobacco expenses, and clothing expenses. It is shown that there is a huge difference between the top 3 richest region and lower income region. It shows that richer families spend a lot more on leisure expenses than those that belong to lower income region."
   ]
  },
  {
   "cell_type": "markdown",
   "id": "36cebab5",
   "metadata": {
    "papermill": {
     "duration": 0.022431,
     "end_time": "2022-07-11T11:00:04.833547",
     "exception": false,
     "start_time": "2022-07-11T11:00:04.811116",
     "status": "completed"
    },
    "tags": []
   },
   "source": [
    "# **National Capital Region**\n",
    "The National Capital Region houses different socio-economic status ranging from the poorest to the richest. Let us compare the spending behavior of these social classes and understand how each of these classes spend their earnings."
   ]
  },
  {
   "cell_type": "code",
   "execution_count": 34,
   "id": "ef748060",
   "metadata": {
    "execution": {
     "iopub.execute_input": "2022-07-11T11:00:04.879172Z",
     "iopub.status.busy": "2022-07-11T11:00:04.878787Z",
     "iopub.status.idle": "2022-07-11T11:00:04.895023Z",
     "shell.execute_reply": "2022-07-11T11:00:04.893952Z"
    },
    "papermill": {
     "duration": 0.041402,
     "end_time": "2022-07-11T11:00:04.897339",
     "exception": false,
     "start_time": "2022-07-11T11:00:04.855937",
     "status": "completed"
    },
    "tags": []
   },
   "outputs": [],
   "source": [
    "ncr_filt = region_grp.get_group('NCR')\n",
    "ncr_df = pd.DataFrame(ncr_filt)\n",
    "ncr_df['Above_below'] = ncr_filt['Total Household Income'] >  ncr_filt['Total Household Income'].mean()\n",
    "rich = ncr_df.loc[ncr_df['Above_below'] == True]\n",
    "poor = ncr_df.loc[ncr_df['Above_below'] == False]"
   ]
  },
  {
   "cell_type": "markdown",
   "id": "7b18ba72",
   "metadata": {
    "papermill": {
     "duration": 0.022553,
     "end_time": "2022-07-11T11:00:04.941677",
     "exception": false,
     "start_time": "2022-07-11T11:00:04.919124",
     "status": "completed"
    },
    "tags": []
   },
   "source": [
    "The annual median salary in NCR is 312,200 pesos and out of the 4129 households who answered the survey, 1378 were considered rich while 2751 were considered poor."
   ]
  },
  {
   "cell_type": "code",
   "execution_count": 35,
   "id": "06317211",
   "metadata": {
    "execution": {
     "iopub.execute_input": "2022-07-11T11:00:04.992475Z",
     "iopub.status.busy": "2022-07-11T11:00:04.992090Z",
     "iopub.status.idle": "2022-07-11T11:00:05.206239Z",
     "shell.execute_reply": "2022-07-11T11:00:05.205291Z"
    },
    "papermill": {
     "duration": 0.2433,
     "end_time": "2022-07-11T11:00:05.209352",
     "exception": false,
     "start_time": "2022-07-11T11:00:04.966052",
     "status": "completed"
    },
    "tags": []
   },
   "outputs": [
    {
     "data": {
      "text/plain": [
       "<matplotlib.legend.Legend at 0x7f170f9e98d0>"
      ]
     },
     "execution_count": 35,
     "metadata": {},
     "output_type": "execute_result"
    },
    {
     "data": {
      "image/png": "[encoded data removed]",
      "text/plain": [
       "<Figure size 432x288 with 1 Axes>"
      ]
     },
     "metadata": {
      "needs_background": "light"
     },
     "output_type": "display_data"
    }
   ],
   "source": [
    "x = [rich['Total Rice Expenditure'].mean(),rich['Meat Expenditure'].mean(), \n",
    "     rich['Total Fish and  marine products Expenditure'].mean(),rich['Fruit Expenditure'].mean(),\n",
    "    rich['Vegetables Expenditure'].mean()]\n",
    "y = [poor['Total Rice Expenditure'].mean(),poor['Meat Expenditure'].mean(),  \n",
    "     poor['Total Fish and  marine products Expenditure'].mean(),poor['Fruit Expenditure'].mean(),\n",
    "    poor['Vegetables Expenditure'].mean()]\n",
    "\n",
    "ti = ['Rice Expenditure','Meat Expenditure', 'Fish Expenditure',\n",
    "     'Fruit Expenditure','Vegetable Expenditure']\n",
    "hor = np.arange(len(ti))\n",
    "\n",
    "fig,ax = plt.subplots()\n",
    "ax.spines['top'].set_visible(False)\n",
    "ax.spines['right'].set_visible(False)\n",
    "ax.bar(ti,x, width = 0.25, label = 'NCR Rich Household')\n",
    "ax.bar(hor+ 0.25,y, width = 0.25, label = 'NCR Poor Household')\n",
    "plt.xticks(rotation = 10)\n",
    "plt.legend()"
   ]
  },
  {
   "cell_type": "markdown",
   "id": "e5daf0bd",
   "metadata": {
    "papermill": {
     "duration": 0.021539,
     "end_time": "2022-07-11T11:00:05.253756",
     "exception": false,
     "start_time": "2022-07-11T11:00:05.232217",
     "status": "completed"
    },
    "tags": []
   },
   "source": [
    "First off, we compared the food expenditure of the rich and poor households in NCR. We can see that the rich household spends a lot more on all categories especially on meat and fish expenditures as compared to its counter-parts. We could also notice that the poor household spends the most on rice which is a must in a filipino household."
   ]
  },
  {
   "cell_type": "code",
   "execution_count": 36,
   "id": "e515c0e8",
   "metadata": {
    "execution": {
     "iopub.execute_input": "2022-07-11T11:00:05.301381Z",
     "iopub.status.busy": "2022-07-11T11:00:05.300197Z",
     "iopub.status.idle": "2022-07-11T11:00:05.685830Z",
     "shell.execute_reply": "2022-07-11T11:00:05.684978Z"
    },
    "papermill": {
     "duration": 0.41099,
     "end_time": "2022-07-11T11:00:05.687901",
     "exception": false,
     "start_time": "2022-07-11T11:00:05.276911",
     "status": "completed"
    },
    "tags": []
   },
   "outputs": [
    {
     "data": {
      "text/plain": [
       "<matplotlib.legend.Legend at 0x7f170eafa2d0>"
      ]
     },
     "execution_count": 36,
     "metadata": {},
     "output_type": "execute_result"
    },
    {
     "data": {
      "image/png": "[encoded data removed]",
      "text/plain": [
       "<Figure size 432x288 with 1 Axes>"
      ]
     },
     "metadata": {
      "needs_background": "light"
     },
     "output_type": "display_data"
    }
   ],
   "source": [
    "x = [rich['Alcoholic Beverages Expenditure'].mean(),\n",
    "    rich['Tobacco Expenditure'].mean(),rich['Clothing, Footwear and Other Wear Expenditure'].mean(),\n",
    "    rich['Special Occasions Expenditure'].mean(),rich['Crop Farming and Gardening expenses'].mean()]\n",
    "y = [poor['Alcoholic Beverages Expenditure'].mean(),\n",
    "    poor['Tobacco Expenditure'].mean(),poor['Clothing, Footwear and Other Wear Expenditure'].mean(),\n",
    "    poor['Special Occasions Expenditure'].mean(),poor['Crop Farming and Gardening expenses'].mean()]\n",
    "\n",
    "fig,ax = plt.subplots()\n",
    "ax.spines['top'].set_visible(False)\n",
    "ax.spines['right'].set_visible(False)\n",
    "ti = ['Alcohol Expenditure','Tobacco Expenditure','Clothing Expenditure',\n",
    "'Occasions Expenditure','Gardening expenses']\n",
    "hor = np.arange(len(ti))\n",
    "\n",
    "ax.bar(ti,x, width = 0.25, label = 'NCR Rich Household')\n",
    "ax.bar(hor + 0.25, y, width = 0.25, label = 'NCR Poor Household')\n",
    "plt.xticks(rotation = 10)\n",
    "plt.legend()"
   ]
  },
  {
   "cell_type": "markdown",
   "id": "73bbeffc",
   "metadata": {
    "papermill": {
     "duration": 0.022718,
     "end_time": "2022-07-11T11:00:05.733535",
     "exception": false,
     "start_time": "2022-07-11T11:00:05.710817",
     "status": "completed"
    },
    "tags": []
   },
   "source": [
    "In the graph above, we could notice a huge discrepancy between the two social classes. It is evident that the Rich household spends more on clothing and occasions expenditure. It is worth noting that the rich and the poor household only has 10,000 pesos difference in spending in terms of purchasing alcohol and tobacco products."
   ]
  },
  {
   "cell_type": "markdown",
   "id": "b3fd4284",
   "metadata": {
    "papermill": {
     "duration": 0.023919,
     "end_time": "2022-07-11T11:00:05.779979",
     "exception": false,
     "start_time": "2022-07-11T11:00:05.756060",
     "status": "completed"
    },
    "tags": []
   },
   "source": [
    "# **Educational Attainment**\n",
    "Let us figure out if educational attainment plays a role on classifying where a household will be in terms of its socio-economic status."
   ]
  },
  {
   "cell_type": "code",
   "execution_count": 37,
   "id": "31468693",
   "metadata": {
    "execution": {
     "iopub.execute_input": "2022-07-11T11:00:05.828444Z",
     "iopub.status.busy": "2022-07-11T11:00:05.827922Z",
     "iopub.status.idle": "2022-07-11T11:00:06.159216Z",
     "shell.execute_reply": "2022-07-11T11:00:06.157971Z"
    },
    "papermill": {
     "duration": 0.358742,
     "end_time": "2022-07-11T11:00:06.161746",
     "exception": false,
     "start_time": "2022-07-11T11:00:05.803004",
     "status": "completed"
    },
    "tags": []
   },
   "outputs": [
    {
     "data": {
      "text/plain": [
       "<AxesSubplot:title={'center':'20 Highest Earning Educational Attainment'}, ylabel='Educational Attainment'>"
      ]
     },
     "execution_count": 37,
     "metadata": {},
     "output_type": "execute_result"
    },
    {
     "data": {
      "image/png": "[encoded data removed]",
      "text/plain": [
       "<Figure size 432x360 with 1 Axes>"
      ]
     },
     "metadata": {
      "needs_background": "light"
     },
     "output_type": "display_data"
    }
   ],
   "source": [
    "income_grp = df.groupby('Household Head Occupation')\n",
    "occupation = income_grp['Total Household Income'].mean()\n",
    "\n",
    "fig,ax = plt.subplots()\n",
    "ax.spines['top'].set_visible(False)\n",
    "ax.spines['right'].set_visible(False)\n",
    "df['Educational Attainment'] = [' '.join(x.split()[0:3]) for x in df['Household Head Highest Grade Completed']]\n",
    "grade_grp = df.groupby('Educational Attainment')\n",
    "gradeup = grade_grp['Total Household Income'].mean().sort_values(ascending = True)[25:]\n",
    "gradedown = grade_grp['Total Household Income'].mean().sort_values()[:21]\n",
    "plt.title('20 Highest Earning Educational Attainment')\n",
    "plt.yticks(fontsize = 8)\n",
    "grays = ['gray' for x in range(21)]\n",
    "gradeup.plot(kind = 'barh',figsize = (6,5))"
   ]
  },
  {
   "cell_type": "markdown",
   "id": "b248407f",
   "metadata": {
    "papermill": {
     "duration": 0.060531,
     "end_time": "2022-07-11T11:00:06.247324",
     "exception": false,
     "start_time": "2022-07-11T11:00:06.186793",
     "status": "completed"
    },
    "tags": []
   },
   "source": [
    "Based on the graph above, taking Law and Phd would yield the best earnings in the Philippines. \n",
    "\n",
    "Let us now find out which educational attainment earns the lowest in the Philippines."
   ]
  },
  {
   "cell_type": "code",
   "execution_count": 38,
   "id": "4355a464",
   "metadata": {
    "execution": {
     "iopub.execute_input": "2022-07-11T11:00:06.297506Z",
     "iopub.status.busy": "2022-07-11T11:00:06.297123Z",
     "iopub.status.idle": "2022-07-11T11:00:06.584926Z",
     "shell.execute_reply": "2022-07-11T11:00:06.583756Z"
    },
    "papermill": {
     "duration": 0.315849,
     "end_time": "2022-07-11T11:00:06.587380",
     "exception": false,
     "start_time": "2022-07-11T11:00:06.271531",
     "status": "completed"
    },
    "tags": []
   },
   "outputs": [
    {
     "data": {
      "text/plain": [
       "<AxesSubplot:title={'center':'20 Lowest Earning Educational Attainment'}, ylabel='Educational Attainment'>"
      ]
     },
     "execution_count": 38,
     "metadata": {},
     "output_type": "execute_result"
    },
    {
     "data": {
      "image/png": "[encoded data removed]",
      "text/plain": [
       "<Figure size 432x360 with 1 Axes>"
      ]
     },
     "metadata": {
      "needs_background": "light"
     },
     "output_type": "display_data"
    }
   ],
   "source": [
    "fig,ax = plt.subplots()\n",
    "ax.spines['top'].set_visible(False)\n",
    "ax.spines['right'].set_visible(False)\n",
    "plt.yticks(fontsize = 8)\n",
    "plt.title('20 Lowest Earning Educational Attainment')\n",
    "gradedown.plot(kind = 'barh',figsize = (6,5))"
   ]
  },
  {
   "cell_type": "markdown",
   "id": "101e5c23",
   "metadata": {
    "papermill": {
     "duration": 0.024655,
     "end_time": "2022-07-11T11:00:06.635618",
     "exception": false,
     "start_time": "2022-07-11T11:00:06.610963",
     "status": "completed"
    },
    "tags": []
   },
   "source": [
    "Having zero education in the Philippines would put a household in the lowest tier in terms of the social classes in the country. Having passed the second year of College, this would allow the household to have a higher salary than the median salary of the whole country, and attaining just the first year of college and below would put a family under the annual average income of the country.\n",
    "\n",
    "This shows the importance of having an education because this could allow a family to live a comfortable life and having the financial freedom that everyone deserves to have."
   ]
  },
  {
   "cell_type": "markdown",
   "id": "5ab7f302",
   "metadata": {
    "papermill": {
     "duration": 0.02338,
     "end_time": "2022-07-11T11:00:06.682776",
     "exception": false,
     "start_time": "2022-07-11T11:00:06.659396",
     "status": "completed"
    },
    "tags": []
   },
   "source": [
    "# **Unemployment Rate**"
   ]
  },
  {
   "cell_type": "code",
   "execution_count": 39,
   "id": "3187fe2a",
   "metadata": {
    "execution": {
     "iopub.execute_input": "2022-07-11T11:00:06.734868Z",
     "iopub.status.busy": "2022-07-11T11:00:06.734222Z",
     "iopub.status.idle": "2022-07-11T11:00:07.012695Z",
     "shell.execute_reply": "2022-07-11T11:00:07.011470Z"
    },
    "papermill": {
     "duration": 0.306736,
     "end_time": "2022-07-11T11:00:07.014971",
     "exception": false,
     "start_time": "2022-07-11T11:00:06.708235",
     "status": "completed"
    },
    "tags": []
   },
   "outputs": [
    {
     "data": {
      "text/plain": [
       "<AxesSubplot:title={'center':'Unemployment Rate per Region (%)'}>"
      ]
     },
     "execution_count": 39,
     "metadata": {},
     "output_type": "execute_result"
    },
    {
     "data": {
      "image/png": "[encoded data removed]",
      "text/plain": [
       "<Figure size 432x288 with 1 Axes>"
      ]
     },
     "metadata": {
      "needs_background": "light"
     },
     "output_type": "display_data"
    }
   ],
   "source": [
    "fig,ax = plt.subplots()\n",
    "ax.spines['top'].set_visible(False)\n",
    "ax.spines['right'].set_visible(False)\n",
    "df['Household Head Job or Business Indicator'].value_counts()\n",
    "employed_grp = df.groupby('Household Head Job or Business Indicator')\n",
    "jobless = employed_grp.get_group('No Job/Business')\n",
    "with_job = employed_grp.get_group('With Job/Business')\n",
    "rate = (jobless['Region_num'].value_counts()/with_job['Region_num'].value_counts())*100\n",
    "plt.title('Unemployment Rate per Region (%)')\n",
    "rate.plot(kind = 'barh')"
   ]
  },
  {
   "cell_type": "markdown",
   "id": "984902ad",
   "metadata": {
    "papermill": {
     "duration": 0.023719,
     "end_time": "2022-07-11T11:00:07.062658",
     "exception": false,
     "start_time": "2022-07-11T11:00:07.038939",
     "status": "completed"
    },
    "tags": []
   },
   "source": [
    "The National Capital Region and Region III has the most number of unemployed individuals in terms of percentage. It is then followed by Region I and Region IVA. We could notice that richer regions seems to have a worse case of unemployment than poorer regions. This could be caused by lack of skills, congestion, or the lack of infrastructures to cater that much people."
   ]
  },
  {
   "cell_type": "markdown",
   "id": "ff72d83a",
   "metadata": {
    "papermill": {
     "duration": 0.024453,
     "end_time": "2022-07-11T11:00:07.111419",
     "exception": false,
     "start_time": "2022-07-11T11:00:07.086966",
     "status": "completed"
    },
    "tags": []
   },
   "source": [
    "# **Conclusion and Findings**\n",
    "1. Poorer regions tend to focus on the agricultural sector while rich regions has a tendency to focus on other regions such as BPO, IT and Industrial sector.\n",
    "2. Agricultural regions earns significantly lower than those regions who focused on other sectors. The rich and the poor regions has a correlation in food expenditure while there is a huge discrepancy between the rich and the poor in terms of leisure expenditure with the exception of alcohol and tobacco consumption.\n",
    "3. Educational Attainment plays a huge role in the ability of a household to earn more than those without having attained at least a two year degree."
   ]
  }
 ],
 "metadata": {
  "kernelspec": {
   "display_name": "Python 3",
   "language": "python",
   "name": "python3"
  },
  "language_info": {
   "codemirror_mode": {
    "name": "ipython",
    "version": 3
   },
   "file_extension": ".py",
   "mimetype": "text/x-python",
   "name": "python",
   "nbconvert_exporter": "python",
   "pygments_lexer": "ipython3",
   "version": "3.7.12"
  },
  "papermill": {
   "default_parameters": {},
   "duration": 26.086524,
   "end_time": "2022-07-11T11:00:08.059381",
   "environment_variables": {},
   "exception": null,
   "input_path": "__notebook__.ipynb",
   "output_path": "__notebook__.ipynb",
   "parameters": {},
   "start_time": "2022-07-11T10:59:41.972857",
   "version": "2.3.4"
  }
 },
 "nbformat": 4,
 "nbformat_minor": 5
}
